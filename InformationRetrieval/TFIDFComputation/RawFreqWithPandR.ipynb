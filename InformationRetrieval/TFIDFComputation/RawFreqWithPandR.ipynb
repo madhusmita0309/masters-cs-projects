{
 "cells": [
  {
   "cell_type": "code",
   "execution_count": 6,
   "metadata": {},
   "outputs": [],
   "source": [
    "import nltk\n",
    "#nltk.download()\n",
    "from nltk.corpus import PlaintextCorpusReader\n",
    "from nltk.stem import WordNetLemmatizer\n",
    "from nltk.stem.snowball import PorterStemmer,SnowballStemmer\n",
    "from nltk.stem.lancaster import LancasterStemmer\n",
    "#nltk.download('wordnet')\n",
    "corpus = PlaintextCorpusReader(\"corpora.zip\",r\".*\\.*\")\n",
    "lemm = WordNetLemmatizer()\n",
    "ps = PorterStemmer()\n",
    "vocabSize=0\n",
    "postingListSize=0\n"
   ]
  },
  {
   "cell_type": "code",
   "execution_count": 9,
   "metadata": {},
   "outputs": [],
   "source": [
    "#nltk.download('stopwords')\n",
    "from nltk.corpus import stopwords\n",
    "sw = set(stopwords.words('english'))\n",
    "#print(sw)"
   ]
  },
  {
   "cell_type": "code",
   "execution_count": 2,
   "metadata": {},
   "outputs": [],
   "source": [
    "tophundred =[['GX076-73-9671657'], ['GX000-47-16664622'], ['GX246-79-13977676'], ['GX234-09-11837644'], ['GX044-20-2602695'], ['GX118-74-2093215'], ['GX238-04-12319787'], ['GX045-00-2313585'], ['GX006-35-1089672'], ['GX235-49-1853414'], ['GX022-91-4208711'], ['GX266-06-11290095'], ['GX001-83-6103749'], ['GX030-46-10656648'], ['GX272-03-0507928'], ['GX130-84-16036993'], ['GX067-39-0760978'], ['GX252-69-3511616'], ['GX017-08-6496610'], ['GX068-09-8808594'], ['GX234-65-0061241'], ['GX232-43-15916167'], ['GX152-90-15843322'], ['GX251-55-9721867'], ['GX235-14-15194987'], ['GX022-66-2133207'], ['GX033-74-11768205'], ['GX080-39-1799719'], ['GX000-64-5866723'], ['GX226-56-7245665'], ['GX267-18-5734917'], ['GX031-39-4910650'], ['GX262-66-14330191'], ['GX242-88-12802774'], ['GX266-38-8981287'], ['GX266-03-15444557'], ['GX252-77-13936202'], ['GX237-21-9143797'], ['GX271-37-7577511'], ['GX180-26-2527580'], ['GX050-22-12402240'], ['GX233-05-9583623'], ['GX260-95-16009459'], ['GX238-57-4348848'], ['GX268-12-6668448'], ['GX002-26-13752871'], ['GX269-73-3806430'], ['GX019-59-0927050'], ['GX255-77-14041569'], ['GX262-56-13887588'], ['GX057-87-6701199'], ['GX003-02-7881555'], ['GX062-61-6969183'], ['GX270-47-8433846'], ['GX124-47-14660533'], ['GX027-18-10108767'], ['GX066-25-2862428'], ['GX253-03-2644072'], ['GX160-97-14180874'], ['GX227-31-11982207'], ['GX268-17-14826284'], ['GX023-47-12204648'], ['GX066-24-15542843'], ['GX261-84-8988498'], ['GX236-12-10206301'], ['GX166-39-11518862'], ['GX004-39-10107773'], ['GX264-71-7429003'], ['GX051-70-13821495'], ['GX076-21-2157012'], ['GX010-43-13351164'], ['GX033-37-6910937'], ['GX251-93-6188233'], ['GX025-15-6373587'], ['GX046-89-2132993'], ['GX235-06-7810414'], ['GX054-19-10921158'], ['GX015-24-9993283'], ['GX226-84-15865269'], ['GX025-19-6143635'], ['GX000-77-6847828'], ['GX060-86-12683940'], ['GX237-13-3304514'], ['GX251-09-15641167'], ['GX018-07-8273149'], ['GX031-88-15781634'], ['GX054-69-5609826'], ['GX001-32-14918699'], ['GX016-50-3666937'], ['GX098-04-9007596'], ['GX131-24-6071984'], ['GX104-99-9877953'], ['GX245-23-5467402'], ['GX068-24-7570125'], ['GX230-14-13301582'], ['GX245-12-15484392'], ['GX229-50-13150686'], ['GX246-32-5710943'], ['GX046-25-14792040'], ['GX044-10-15979811'], ['GX027-18-3385268'], ['GX253-54-15104746'], ['GX023-34-7385049'], ['GX252-55-12761705'], ['GX007-60-13341075'], ['GX103-64-13700075'], ['GX030-71-15787453'], ['GX261-69-16733268'], ['GX064-67-4233620'], ['GX234-48-1061082'], ['GX251-35-16039127'], ['GX021-90-10239487'], ['GX263-52-0522987'], ['GX012-19-6427895'], ['GX231-53-10990040'], ['GX070-36-12424140'], ['GX067-10-6827896'], ['GX268-10-8952707'], ['GX006-34-4125034'], ['GX238-16-15902128'], ['GX002-67-12342105'], ['GX243-38-3872237'], ['GX235-44-13395478'], ['GX035-98-0922469'], ['GX266-69-16573983'], ['GX037-41-12009513'], ['GX008-71-9359930'], ['GX263-51-0953715'], ['GX082-58-15419589'], ['GX246-13-11532135'], ['GX089-15-8471339'], ['GX264-27-9780728'], ['GX008-73-8799753'], ['GX016-64-15836350'], ['GX253-13-2028661'], ['GX017-93-0483642'], ['GX047-40-12719561'], ['GX266-62-8151250'], ['GX045-98-13455252'], ['GX185-34-8765846'], ['GX010-38-10935242'], ['GX262-08-5685957'], ['GX267-57-14720787'], ['GX050-64-16681166'], ['GX009-93-8826706'], ['GX235-12-14963469'], ['GX192-57-2750479'], ['GX014-88-12762055'], ['GX234-97-11451211'], ['GX271-47-6079926'], ['GX039-03-11588197'], ['GX252-90-7072520'], ['GX014-42-16535232'], ['GX013-43-14423914'], ['GX070-50-15775402'], ['GX269-16-11472617'], ['GX001-07-10752136'], ['GX033-39-6253196'], ['GX239-12-11186677'], ['GX250-59-16700342'], ['GX007-11-9323667'], ['GX256-61-13295069'], ['GX001-37-2825497'], ['GX019-80-5095497'], ['GX046-71-7686865'], ['GX089-50-11510986'], ['GX012-86-3147424'], ['GX072-96-10747812'], ['GX139-09-11929540'], ['GX002-21-7842553'], ['GX066-08-5145977'], ['GX098-71-15002386'], ['GX011-81-10306672'], ['GX269-22-3624218'], ['GX041-30-11128623'], ['GX244-86-2532794'], ['GX031-45-14138043'], ['GX270-29-2037297'], ['GX012-43-0650616'], ['GX040-29-8619352'], ['GX010-49-1462037'], ['GX017-49-16216098'], ['GX253-06-14775839'], ['GX062-61-1338105'], ['GX002-57-5524313'], ['GX070-20-6909524'], ['GX133-83-0183692'], ['GX015-45-16339159'], ['GX019-33-11484591'], ['GX031-37-5671974'], ['GX256-47-3100554'], ['GX054-12-0846036'], ['GX020-38-11946255'], ['GX005-25-1803978'], ['GX009-33-12633954'], ['GX238-02-3365918'], ['GX269-38-9248488'], ['GX061-49-16061482'], ['GX017-68-13943308'], ['GX268-59-7472370'], ['GX008-59-16244161'], ['GX050-55-2137085'], ['GX006-11-13648004'], ['GX021-28-12863044'], ['GX263-52-7604187'], ['GX229-32-3006164'], ['GX260-13-11513072'], ['GX263-50-7322286'], ['GX017-66-16270474'], ['GX104-28-6788626'], ['GX108-27-5014609'], ['GX027-09-0083985'], ['GX066-55-7618225'], ['GX235-93-6814575'], ['GX120-62-9606015'], ['GX012-00-16749717'], ['GX011-27-9771637'], ['GX033-50-9898679'], ['GX229-00-12540928'], ['GX260-46-8634545'], ['GX014-94-1782160'], ['GX016-57-14337495'], ['GX230-16-3711335'], ['GX050-39-10411277'], ['GX068-78-2137752'], ['GX226-45-0230910'], ['GX085-52-8905384'], ['GX251-23-0130240'], ['GX006-96-14383474'], ['GX041-49-14190742'], ['GX012-94-0685684'], ['GX062-35-0543954'], ['GX016-16-2824629'], ['GX056-80-8507274'], ['GX055-07-6092381'], ['GX264-58-2764191'], ['GX234-88-15442725'], ['GX262-70-3482225'], ['GX241-70-14423465'], ['GX012-61-3658271'], ['GX059-73-7663509'], ['GX021-13-8007606'], ['GX012-72-14266289'], ['GX016-68-0366659'], ['GX261-72-1094793'], ['GX246-49-12699220'], ['GX000-81-0219756'], ['GX005-08-2573669'], ['GX236-15-7664287'], ['GX233-57-9641546']]"
   ]
  },
  {
   "cell_type": "code",
   "execution_count": 3,
   "metadata": {},
   "outputs": [],
   "source": [
    "topqueries=[['737  allegations made enrons culpability california energy crisis'], ['727  identify specific instances church arson'], ['715  organizations private governmental developing drugs combat schizophrenia'], ['702  pearl farming operations actual farming operations described culturing pearls japanese pearl productions status pearl farming production'], ['755  history location scottish highland games united states'], ['709  limits regulations concerning jockey weight horse racing'], ['723  governments definition executive privilege'], ['705  identify efforts proposed undertaken world governments seek reduction iraqs foreign debt'], ['737  allegations made enrons culpability california energy crisis'], ['701  describe history oil industry']]"
   ]
  },
  {
   "cell_type": "code",
   "execution_count": 4,
   "metadata": {},
   "outputs": [],
   "source": [
    "hundredtop=[]\n",
    "for t in tophundred:\n",
    "    hundredtop.append(t[0])"
   ]
  },
  {
   "cell_type": "code",
   "execution_count": 11,
   "metadata": {},
   "outputs": [],
   "source": [
    "pathval=\"corpora.zip\"\n",
    "modfinal=[]\n",
    "finlist=[]\n",
    "new_corpus=[]\n",
    "i=0\n",
    "wordSet=set()\n",
    "for val in range(0,250) :\n",
    "    a = str(hundredtop[val])\n",
    "    newcorpus = PlaintextCorpusReader(pathval,a)  \n",
    "    string = \"\"\n",
    "    finlist.insert(i,newcorpus.words())\n",
    "    i+=1\n",
    "    for k in newcorpus.words():\n",
    "        string = string + \" \" + k\n",
    "    temp1=myTokenizer(string)\n",
    "#     if val == 2:\n",
    "        #print(string)\n",
    "    new_corpus.append(temp1)\n",
    "    bagofWords=temp1\n",
    "    wordSet=set(wordSet).union(set(bagofWords))\n",
    "\n",
    "\n",
    "wordSetAsList=list(wordSet)"
   ]
  },
  {
   "cell_type": "code",
   "execution_count": 8,
   "metadata": {},
   "outputs": [],
   "source": [
    "from nltk.tokenize import RegexpTokenizer\n",
    "tokenizer = RegexpTokenizer(\"[a-zA-Z@]+\")\n",
    "from nltk.corpus import stopwords\n",
    "sw = set(stopwords.words('english'))"
   ]
  },
  {
   "cell_type": "code",
   "execution_count": 9,
   "metadata": {},
   "outputs": [],
   "source": [
    "def filter_words(word_list):\n",
    "    useful_words = [w for w in word_list if w not in sw]\n",
    "    return useful_words"
   ]
  },
  {
   "cell_type": "code",
   "execution_count": 10,
   "metadata": {},
   "outputs": [],
   "source": [
    "def myTokenizer(sentence):\n",
    "    words = tokenizer.tokenize(sentence.lower())\n",
    "    return filter_words(words) #Filter out the stopwords"
   ]
  },
  {
   "cell_type": "code",
   "execution_count": 13,
   "metadata": {},
   "outputs": [],
   "source": [
    "#dummylist=[]\n",
    "termfreqlist=[]\n",
    "    \n",
    "for i in range(0,250):\n",
    "    dummylist=[]\n",
    "    for j in range(len(wordSetAsList)):\n",
    "        dummylist.append(0)\n",
    "    for word in new_corpus[i] :  \n",
    "        idx=wordSetAsList.index(word)\n",
    "        dummylist[idx]+=1\n",
    "    #print(dummylist)    \n",
    "    termfreqlist.append(dummylist)\n",
    "    #dummylist.clear()"
   ]
  },
  {
   "cell_type": "code",
   "execution_count": 14,
   "metadata": {
    "scrolled": true
   },
   "outputs": [],
   "source": [
    "results = []\n",
    "\n",
    "for j in topqueries:\n",
    "    results_rawFreq = []\n",
    "    results_doc_id = []\n",
    "    for i in range(250):\n",
    "        results_rawFreq.append(0)\n",
    "        results_doc_id.append(i)\n",
    "    query = j\n",
    "    query = tokenizer.tokenize(str(query))\n",
    "    for q in query:\n",
    "        try:\n",
    "            col=wordSetAsList.index(q)\n",
    "        except KeyError:\n",
    "            pass\n",
    "        except ValueError:\n",
    "            pass\n",
    "        for doc in range(0,250):\n",
    "            results_rawFreq[doc]=results_rawFreq[doc]+termfreqlist[doc][col]\n",
    "        sorted_result = [x for _,x in sorted(zip(results_rawFreq,results_doc_id),reverse=True)]\n",
    "    results.append(sorted_result)"
   ]
  },
  {
   "cell_type": "code",
   "execution_count": 15,
   "metadata": {},
   "outputs": [],
   "source": [
    "queryIDlist=[]\n",
    "queriesList=[]\n",
    "class putIntoDict(object):\n",
    "    def __init__(self,query):\n",
    "        self.query = query\n",
    "        self.qlist=[]\n",
    "        dumm=[]\n",
    "        for qid in query :\n",
    "            self.qlist=qid.split(\" \")\n",
    "            queryIDlist.append(self.qlist[0])\n",
    "            for x in range(0,len(self.qlist)) :\n",
    "                if self.qlist[x].isalpha():\n",
    "                    dumm.append(self.qlist[x])\n",
    "            queriesList.extend(dumm)\n",
    "            dumm.clear()\n"
   ]
  },
  {
   "cell_type": "code",
   "execution_count": 16,
   "metadata": {},
   "outputs": [],
   "source": [
    "outputdict={}\n",
    "class separateOutput(object) :\n",
    "    def getoutput(outputlist):\n",
    "        for i in outputlist:\n",
    "            temp=[]\n",
    "            temp=i.split(\" \")\n",
    "            if temp[0] in outputdict.keys():\n",
    "                t=[]\n",
    "                t=outputdict.get(temp[0])\n",
    "                t.append(temp[1])\n",
    "                outputdict.update({temp[0]:t})\n",
    "                \n",
    "            else :\n",
    "                docli=[]\n",
    "                docli.append(temp[1])\n",
    "                outputdict.update({temp[0]:docli})\n"
   ]
  },
  {
   "cell_type": "code",
   "execution_count": 17,
   "metadata": {},
   "outputs": [],
   "source": [
    "filename2=\"output.txt\"\n",
    "outputans = [line.rstrip('\\n') for line in open(filename2)]\n",
    "separateOutput.getoutput(outputans)"
   ]
  },
  {
   "cell_type": "code",
   "execution_count": 20,
   "metadata": {},
   "outputs": [],
   "source": [
    "class relevancecheck(object):\n",
    "    def checkRelevant(queryid):\n",
    "        templist=outputdict.get(queryid[0])\n",
    "        intersectans=set(templist).intersection(hundredtop)\n",
    "        return intersectans\n",
    "    \n",
    "    def getRelevantRetrieved(rel,k,queryno):\n",
    "        temp1=[]\n",
    "        for i in range(0,k):\n",
    "            temp1.append(hundredtop[results[queryno][i]])\n",
    "            \n",
    "        intersectans2=set(temp1).intersection(rel)\n",
    "            \n",
    "      \n",
    "        return len(intersectans2)\n",
    "\n",
    "    def calculateMetrics(a,b):\n",
    "        return a/float(b)"
   ]
  },
  {
   "cell_type": "code",
   "execution_count": 22,
   "metadata": {},
   "outputs": [
    {
     "name": "stdout",
     "output_type": "stream",
     "text": [
      "0.0\n",
      "0.0\n",
      "0.5\n",
      "0.1\n",
      "0.5\n",
      "0.06666666666666667\n",
      "\n",
      "\n",
      "0.0\n",
      "0.0\n",
      "0.0\n",
      "0.0\n",
      "0.0\n",
      "0.0\n",
      "\n",
      "\n",
      "0\n",
      "0.0\n",
      "0\n",
      "0.0\n",
      "0\n",
      "0.0\n",
      "\n",
      "\n",
      "0.0\n",
      "0.0\n",
      "0.0\n",
      "0.0\n",
      "0.0\n",
      "0.0\n",
      "\n",
      "\n",
      "0.0\n",
      "0.0\n",
      "0.0\n",
      "0.0\n",
      "0.0\n",
      "0.0\n",
      "\n",
      "\n",
      "0.25\n",
      "0.2\n",
      "0.25\n",
      "0.1\n",
      "0.25\n",
      "0.06666666666666667\n",
      "\n",
      "\n",
      "0.0\n",
      "0.0\n",
      "1.0\n",
      "0.1\n",
      "1.0\n",
      "0.06666666666666667\n",
      "\n",
      "\n",
      "0.0\n",
      "0.0\n",
      "0.0\n",
      "0.0\n",
      "0.0\n",
      "0.0\n",
      "\n",
      "\n",
      "0.0\n",
      "0.0\n",
      "0.5\n",
      "0.1\n",
      "0.5\n",
      "0.06666666666666667\n",
      "\n",
      "\n",
      "0.0\n",
      "0.0\n",
      "0.0\n",
      "0.0\n",
      "0.0\n",
      "0.0\n",
      "\n",
      "\n"
     ]
    }
   ],
   "source": [
    "p=0\n",
    "for i in topqueries :\n",
    "    queryIDlist.clear()\n",
    "    queriesList.clear()\n",
    "    putIntoDict(i)\n",
    "    relevantList=[]\n",
    "    relevantList=relevancecheck.checkRelevant(queryIDlist)\n",
    "    relevant=len(relevantList)\n",
    "    for sq in range(5,16,5) :\n",
    "        #print(\"k:\",sq)\n",
    "        relevantretrieved=relevancecheck.getRelevantRetrieved(relevantList,sq,p)\n",
    "\n",
    "        precision=relevancecheck.calculateMetrics(relevantretrieved,sq)\n",
    "        if relevant != 0:\n",
    "            recall=relevancecheck.calculateMetrics(relevantretrieved,relevant)\n",
    "            print(recall)\n",
    "        else:    \n",
    "            print(0)\n",
    "\n",
    "        print(precision)\n",
    "\n",
    "        \n",
    "    print(\"\\n\")"
   ]
  },
  {
   "cell_type": "code",
   "execution_count": null,
   "metadata": {},
   "outputs": [],
   "source": []
  }
 ],
 "metadata": {
  "kernelspec": {
   "display_name": "Python 3",
   "language": "python",
   "name": "python3"
  },
  "language_info": {
   "codemirror_mode": {
    "name": "ipython",
    "version": 3
   },
   "file_extension": ".py",
   "mimetype": "text/x-python",
   "name": "python",
   "nbconvert_exporter": "python",
   "pygments_lexer": "ipython3",
   "version": "3.7.3"
  }
 },
 "nbformat": 4,
 "nbformat_minor": 2
}

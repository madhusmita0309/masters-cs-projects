{
 "cells": [
  {
   "cell_type": "markdown",
   "metadata": {},
   "source": [
    "- Importing / Downloading relevant libraries\n",
    "- Reading the given corpus file with Plain Text Corpus Reader"
   ]
  },
  {
   "cell_type": "code",
   "execution_count": 190,
   "metadata": {},
   "outputs": [],
   "source": [
    "import nltk\n",
    "#nltk.download()\n",
    "from nltk.corpus import PlaintextCorpusReader\n",
    "import pandas as pd\n",
    "from sklearn.cluster import KMeans\n",
    "from sklearn import metrics\n",
    "from sklearn.metrics import pairwise_distances\n",
    "import matplotlib.pyplot as plt\n",
    "from sklearn.cluster import AgglomerativeClustering\n",
    "\n",
    "corpus = PlaintextCorpusReader(\"corpora.zip\",r\".*\\.*\")\n",
    "\n",
    "#nltk.download('stopwords')\n",
    "from nltk.corpus import stopwords\n",
    "sw = set(stopwords.words('english'))\n"
   ]
  },
  {
   "cell_type": "markdown",
   "metadata": {},
   "source": [
    "- 250 Sampled documents and 10 queries (used in earlier Assignment)"
   ]
  },
  {
   "cell_type": "code",
   "execution_count": 191,
   "metadata": {},
   "outputs": [],
   "source": [
    "tophundred =[['GX076-73-9671657'], ['GX000-47-16664622'], ['GX246-79-13977676'], ['GX234-09-11837644'], ['GX044-20-2602695'], ['GX118-74-2093215'], ['GX238-04-12319787'], ['GX045-00-2313585'], ['GX006-35-1089672'], ['GX235-49-1853414'], ['GX022-91-4208711'], ['GX266-06-11290095'], ['GX001-83-6103749'], ['GX030-46-10656648'], ['GX272-03-0507928'], ['GX130-84-16036993'], ['GX067-39-0760978'], ['GX252-69-3511616'], ['GX017-08-6496610'], ['GX068-09-8808594'], ['GX234-65-0061241'], ['GX232-43-15916167'], ['GX152-90-15843322'], ['GX251-55-9721867'], ['GX235-14-15194987'], ['GX022-66-2133207'], ['GX033-74-11768205'], ['GX080-39-1799719'], ['GX000-64-5866723'], ['GX226-56-7245665'], ['GX267-18-5734917'], ['GX031-39-4910650'], ['GX262-66-14330191'], ['GX242-88-12802774'], ['GX266-38-8981287'], ['GX266-03-15444557'], ['GX252-77-13936202'], ['GX237-21-9143797'], ['GX271-37-7577511'], ['GX180-26-2527580'], ['GX050-22-12402240'], ['GX233-05-9583623'], ['GX260-95-16009459'], ['GX238-57-4348848'], ['GX268-12-6668448'], ['GX002-26-13752871'], ['GX269-73-3806430'], ['GX019-59-0927050'], ['GX255-77-14041569'], ['GX262-56-13887588'], ['GX057-87-6701199'], ['GX003-02-7881555'], ['GX062-61-6969183'], ['GX270-47-8433846'], ['GX124-47-14660533'], ['GX027-18-10108767'], ['GX066-25-2862428'], ['GX253-03-2644072'], ['GX160-97-14180874'], ['GX227-31-11982207'], ['GX268-17-14826284'], ['GX023-47-12204648'], ['GX066-24-15542843'], ['GX261-84-8988498'], ['GX236-12-10206301'], ['GX166-39-11518862'], ['GX004-39-10107773'], ['GX264-71-7429003'], ['GX051-70-13821495'], ['GX076-21-2157012'], ['GX010-43-13351164'], ['GX033-37-6910937'], ['GX251-93-6188233'], ['GX025-15-6373587'], ['GX046-89-2132993'], ['GX235-06-7810414'], ['GX054-19-10921158'], ['GX015-24-9993283'], ['GX226-84-15865269'], ['GX025-19-6143635'], ['GX000-77-6847828'], ['GX060-86-12683940'], ['GX237-13-3304514'], ['GX251-09-15641167'], ['GX018-07-8273149'], ['GX031-88-15781634'], ['GX054-69-5609826'], ['GX001-32-14918699'], ['GX016-50-3666937'], ['GX098-04-9007596'], ['GX131-24-6071984'], ['GX104-99-9877953'], ['GX245-23-5467402'], ['GX068-24-7570125'], ['GX230-14-13301582'], ['GX245-12-15484392'], ['GX229-50-13150686'], ['GX246-32-5710943'], ['GX046-25-14792040'], ['GX044-10-15979811'], ['GX027-18-3385268'], ['GX253-54-15104746'], ['GX023-34-7385049'], ['GX252-55-12761705'], ['GX007-60-13341075'], ['GX103-64-13700075'], ['GX030-71-15787453'], ['GX261-69-16733268'], ['GX064-67-4233620'], ['GX234-48-1061082'], ['GX251-35-16039127'], ['GX021-90-10239487'], ['GX263-52-0522987'], ['GX012-19-6427895'], ['GX231-53-10990040'], ['GX070-36-12424140'], ['GX067-10-6827896'], ['GX268-10-8952707'], ['GX006-34-4125034'], ['GX238-16-15902128'], ['GX002-67-12342105'], ['GX243-38-3872237'], ['GX235-44-13395478'], ['GX035-98-0922469'], ['GX266-69-16573983'], ['GX037-41-12009513'], ['GX008-71-9359930'], ['GX263-51-0953715'], ['GX082-58-15419589'], ['GX246-13-11532135'], ['GX089-15-8471339'], ['GX264-27-9780728'], ['GX008-73-8799753'], ['GX016-64-15836350'], ['GX253-13-2028661'], ['GX017-93-0483642'], ['GX047-40-12719561'], ['GX266-62-8151250'], ['GX045-98-13455252'], ['GX185-34-8765846'], ['GX010-38-10935242'], ['GX262-08-5685957'], ['GX267-57-14720787'], ['GX050-64-16681166'], ['GX009-93-8826706'], ['GX235-12-14963469'], ['GX192-57-2750479'], ['GX014-88-12762055'], ['GX234-97-11451211'], ['GX271-47-6079926'], ['GX039-03-11588197'], ['GX252-90-7072520'], ['GX014-42-16535232'], ['GX013-43-14423914'], ['GX070-50-15775402'], ['GX269-16-11472617'], ['GX001-07-10752136'], ['GX033-39-6253196'], ['GX239-12-11186677'], ['GX250-59-16700342'], ['GX007-11-9323667'], ['GX256-61-13295069'], ['GX001-37-2825497'], ['GX019-80-5095497'], ['GX046-71-7686865'], ['GX089-50-11510986'], ['GX012-86-3147424'], ['GX072-96-10747812'], ['GX139-09-11929540'], ['GX002-21-7842553'], ['GX066-08-5145977'], ['GX098-71-15002386'], ['GX011-81-10306672'], ['GX269-22-3624218'], ['GX041-30-11128623'], ['GX244-86-2532794'], ['GX031-45-14138043'], ['GX270-29-2037297'], ['GX012-43-0650616'], ['GX040-29-8619352'], ['GX010-49-1462037'], ['GX017-49-16216098'], ['GX253-06-14775839'], ['GX062-61-1338105'], ['GX002-57-5524313'], ['GX070-20-6909524'], ['GX133-83-0183692'], ['GX015-45-16339159'], ['GX019-33-11484591'], ['GX031-37-5671974'], ['GX256-47-3100554'], ['GX054-12-0846036'], ['GX020-38-11946255'], ['GX005-25-1803978'], ['GX009-33-12633954'], ['GX238-02-3365918'], ['GX269-38-9248488'], ['GX061-49-16061482'], ['GX017-68-13943308'], ['GX268-59-7472370'], ['GX008-59-16244161'], ['GX050-55-2137085'], ['GX006-11-13648004'], ['GX021-28-12863044'], ['GX263-52-7604187'], ['GX229-32-3006164'], ['GX260-13-11513072'], ['GX263-50-7322286'], ['GX017-66-16270474'], ['GX104-28-6788626'], ['GX108-27-5014609'], ['GX027-09-0083985'], ['GX066-55-7618225'], ['GX235-93-6814575'], ['GX120-62-9606015'], ['GX012-00-16749717'], ['GX011-27-9771637'], ['GX033-50-9898679'], ['GX229-00-12540928'], ['GX260-46-8634545'], ['GX014-94-1782160'], ['GX016-57-14337495'], ['GX230-16-3711335'], ['GX050-39-10411277'], ['GX068-78-2137752'], ['GX226-45-0230910'], ['GX085-52-8905384'], ['GX251-23-0130240'], ['GX006-96-14383474'], ['GX041-49-14190742'], ['GX012-94-0685684'], ['GX062-35-0543954'], ['GX016-16-2824629'], ['GX056-80-8507274'], ['GX055-07-6092381'], ['GX264-58-2764191'], ['GX234-88-15442725'], ['GX262-70-3482225'], ['GX241-70-14423465'], ['GX012-61-3658271'], ['GX059-73-7663509'], ['GX021-13-8007606'], ['GX012-72-14266289'], ['GX016-68-0366659'], ['GX261-72-1094793'], ['GX246-49-12699220'], ['GX000-81-0219756'], ['GX005-08-2573669'], ['GX236-15-7664287'], ['GX233-57-9641546']]"
   ]
  },
  {
   "cell_type": "code",
   "execution_count": 192,
   "metadata": {},
   "outputs": [],
   "source": [
    "topqueries=[['737  allegations made enrons culpability california energy crisis'], ['727  identify specific instances church arson'], ['715  organizations private governmental developing drugs combat schizophrenia'], ['702  pearl farming operations actual farming operations described culturing pearls japanese pearl productions status pearl farming production'], ['755  history location scottish highland games united states'], ['709  limits regulations concerning jockey weight horse racing'], ['723  governments definition executive privilege'], ['705  identify efforts proposed undertaken world governments seek reduction iraqs foreign debt'], ['737  allegations made enrons culpability california energy crisis'], ['701  describe history oil industry']]"
   ]
  },
  {
   "cell_type": "code",
   "execution_count": 193,
   "metadata": {},
   "outputs": [],
   "source": [
    "hundredtop=[]\n",
    "for t in tophundred:\n",
    "    hundredtop.append(t[0])"
   ]
  },
  {
   "cell_type": "markdown",
   "metadata": {},
   "source": [
    "- Tokenizing the textual input for the task\n",
    "- Removal of stop words & changing it to lower case characters "
   ]
  },
  {
   "cell_type": "code",
   "execution_count": 194,
   "metadata": {},
   "outputs": [],
   "source": [
    "from nltk.tokenize import RegexpTokenizer\n",
    "tokenizer = RegexpTokenizer(\"[a-zA-Z@]+\")"
   ]
  },
  {
   "cell_type": "code",
   "execution_count": 195,
   "metadata": {},
   "outputs": [],
   "source": [
    "def filter_words(word_list):\n",
    "    useful_words = [w for w in word_list if w not in sw]\n",
    "    return useful_words"
   ]
  },
  {
   "cell_type": "code",
   "execution_count": 196,
   "metadata": {},
   "outputs": [],
   "source": [
    "def myTokenizer(sentence):\n",
    "    words = tokenizer.tokenize(sentence.lower())\n",
    "    return filter_words(words) #Filter out the stopwords"
   ]
  },
  {
   "cell_type": "markdown",
   "metadata": {},
   "source": [
    "- Formatting the queries into relevant words for further processing \n"
   ]
  },
  {
   "cell_type": "code",
   "execution_count": 197,
   "metadata": {},
   "outputs": [],
   "source": [
    "queryIDlist=[]\n",
    "queriesList=[]\n",
    "class putIntoDict(object):\n",
    "    def __init__(self,query):\n",
    "        self.query = query\n",
    "        self.qlist=[]\n",
    "        dumm=[]\n",
    "        for qid in query :\n",
    "            self.qlist=qid.split(\" \")\n",
    "            queryIDlist.append(self.qlist[0])\n",
    "            for x in range(0,len(self.qlist)) :\n",
    "                if self.qlist[x].isalpha():\n",
    "                    dumm.append(self.qlist[x])\n",
    "            queriesList.extend(dumm)\n",
    "            dumm.clear()"
   ]
  },
  {
   "cell_type": "code",
   "execution_count": 198,
   "metadata": {},
   "outputs": [],
   "source": [
    "outputdict={}\n",
    "class separateOutput(object) :\n",
    "    def getoutput(outputlist):\n",
    "        for i in outputlist:\n",
    "            temp=[]\n",
    "            temp=i.split(\" \")\n",
    "            if temp[0] in outputdict.keys():\n",
    "                t=[]\n",
    "                t=outputdict.get(temp[0])\n",
    "                t.append(temp[1])\n",
    "                outputdict.update({temp[0]:t})\n",
    "                \n",
    "            else :\n",
    "                docli=[]\n",
    "                docli.append(temp[1])\n",
    "                outputdict.update({temp[0]:docli})"
   ]
  },
  {
   "cell_type": "code",
   "execution_count": 199,
   "metadata": {},
   "outputs": [],
   "source": [
    "filename2=\"output.txt\"\n",
    "outputans = [line.rstrip('\\n') for line in open(filename2)]\n",
    "separateOutput.getoutput(outputans)"
   ]
  },
  {
   "cell_type": "markdown",
   "metadata": {},
   "source": [
    "- Bag of Words model for TFIDF calculation ( combining all unique words in a set for all docs )"
   ]
  },
  {
   "cell_type": "code",
   "execution_count": 200,
   "metadata": {},
   "outputs": [],
   "source": [
    "pathval=\"corpora.zip\"\n",
    "modfinal=[]\n",
    "finlist=[]\n",
    "new_corpus=[]\n",
    "i=0\n",
    "wordSet=set()\n",
    "for val in range(0,250) :\n",
    "    a = str(hundredtop[val])\n",
    "    newcorpus = PlaintextCorpusReader(pathval,a)  \n",
    "    string = \"\"\n",
    "    finlist.insert(i,newcorpus.words())\n",
    "    i+=1\n",
    "    for k in newcorpus.words():\n",
    "        string = string + \" \" + k\n",
    "    temp1=myTokenizer(string)\n",
    "\n",
    "    new_corpus.append(temp1)\n",
    "    bagofWords=temp1\n",
    "    wordSet=set(wordSet).union(set(bagofWords))\n",
    "\n",
    "\n",
    "wordSetAsList=list(wordSet)\n",
    "#print(len(wordSet))\n",
    "#print(len(wordSetAsList))"
   ]
  },
  {
   "cell_type": "code",
   "execution_count": 201,
   "metadata": {},
   "outputs": [],
   "source": [
    "#print(len(new_corpus))"
   ]
  },
  {
   "cell_type": "markdown",
   "metadata": {},
   "source": [
    "- Creating List of Dictionaries for term - frequency mapping  (for all docs )"
   ]
  },
  {
   "cell_type": "code",
   "execution_count": 202,
   "metadata": {},
   "outputs": [],
   "source": [
    "#dummylist=[]\n",
    "termfreqlist=[]\n",
    "\n",
    "for i in range(0,250):\n",
    "    #dummylist=[]\n",
    "    wordDict = dict.fromkeys(wordSet, 0)\n",
    "#     for j in range(len(wordSetAsList)):\n",
    "#         dummylist.append(0)\n",
    "    for word in new_corpus[i] :  \n",
    "#         idx=wordSetAsList.index(word)\n",
    "#         print(idx)\n",
    "        wordDict[word]+=1\n",
    "    #print(dummylist)    \n",
    "    termfreqlist.append(wordDict)\n",
    "    #dummylist.clear()"
   ]
  },
  {
   "cell_type": "markdown",
   "metadata": {},
   "source": [
    "- Storing the results in dataframe for systematic representation"
   ]
  },
  {
   "cell_type": "code",
   "execution_count": 203,
   "metadata": {},
   "outputs": [
    {
     "data": {
      "text/html": [
       "<div>\n",
       "<style scoped>\n",
       "    .dataframe tbody tr th:only-of-type {\n",
       "        vertical-align: middle;\n",
       "    }\n",
       "\n",
       "    .dataframe tbody tr th {\n",
       "        vertical-align: top;\n",
       "    }\n",
       "\n",
       "    .dataframe thead th {\n",
       "        text-align: right;\n",
       "    }\n",
       "</style>\n",
       "<table border=\"1\" class=\"dataframe\">\n",
       "  <thead>\n",
       "    <tr style=\"text-align: right;\">\n",
       "      <th></th>\n",
       "      <th>@</th>\n",
       "      <th>aa</th>\n",
       "      <th>aaa</th>\n",
       "      <th>aaai</th>\n",
       "      <th>aac</th>\n",
       "      <th>aacc</th>\n",
       "      <th>aade</th>\n",
       "      <th>aadhamiya</th>\n",
       "      <th>aaf</th>\n",
       "      <th>aafes</th>\n",
       "      <th>...</th>\n",
       "      <th>zrebiec</th>\n",
       "      <th>zucarelli</th>\n",
       "      <th>zuccarelli</th>\n",
       "      <th>zuckerman</th>\n",
       "      <th>zuni</th>\n",
       "      <th>zurek</th>\n",
       "      <th>zurich</th>\n",
       "      <th>zuru</th>\n",
       "      <th>zylko</th>\n",
       "      <th>zyzanski</th>\n",
       "    </tr>\n",
       "  </thead>\n",
       "  <tbody>\n",
       "    <tr>\n",
       "      <th>0</th>\n",
       "      <td>0.0</td>\n",
       "      <td>0.0</td>\n",
       "      <td>0.0</td>\n",
       "      <td>0.0</td>\n",
       "      <td>0.0</td>\n",
       "      <td>0.0</td>\n",
       "      <td>0.0</td>\n",
       "      <td>0.0</td>\n",
       "      <td>0.0</td>\n",
       "      <td>0.0</td>\n",
       "      <td>...</td>\n",
       "      <td>0.0</td>\n",
       "      <td>0.0</td>\n",
       "      <td>0.0</td>\n",
       "      <td>0.0</td>\n",
       "      <td>0.0</td>\n",
       "      <td>0.0</td>\n",
       "      <td>0.0</td>\n",
       "      <td>0.0</td>\n",
       "      <td>0.0</td>\n",
       "      <td>0.0</td>\n",
       "    </tr>\n",
       "    <tr>\n",
       "      <th>1</th>\n",
       "      <td>0.0</td>\n",
       "      <td>0.0</td>\n",
       "      <td>0.0</td>\n",
       "      <td>0.0</td>\n",
       "      <td>0.0</td>\n",
       "      <td>0.0</td>\n",
       "      <td>0.0</td>\n",
       "      <td>0.0</td>\n",
       "      <td>0.0</td>\n",
       "      <td>0.0</td>\n",
       "      <td>...</td>\n",
       "      <td>0.0</td>\n",
       "      <td>0.0</td>\n",
       "      <td>0.0</td>\n",
       "      <td>0.0</td>\n",
       "      <td>0.0</td>\n",
       "      <td>0.0</td>\n",
       "      <td>0.0</td>\n",
       "      <td>0.0</td>\n",
       "      <td>0.0</td>\n",
       "      <td>0.0</td>\n",
       "    </tr>\n",
       "    <tr>\n",
       "      <th>2</th>\n",
       "      <td>1.0</td>\n",
       "      <td>0.0</td>\n",
       "      <td>0.0</td>\n",
       "      <td>0.0</td>\n",
       "      <td>0.0</td>\n",
       "      <td>0.0</td>\n",
       "      <td>0.0</td>\n",
       "      <td>0.0</td>\n",
       "      <td>0.0</td>\n",
       "      <td>0.0</td>\n",
       "      <td>...</td>\n",
       "      <td>0.0</td>\n",
       "      <td>0.0</td>\n",
       "      <td>0.0</td>\n",
       "      <td>0.0</td>\n",
       "      <td>0.0</td>\n",
       "      <td>0.0</td>\n",
       "      <td>0.0</td>\n",
       "      <td>0.0</td>\n",
       "      <td>0.0</td>\n",
       "      <td>0.0</td>\n",
       "    </tr>\n",
       "    <tr>\n",
       "      <th>3</th>\n",
       "      <td>1.0</td>\n",
       "      <td>0.0</td>\n",
       "      <td>0.0</td>\n",
       "      <td>0.0</td>\n",
       "      <td>0.0</td>\n",
       "      <td>0.0</td>\n",
       "      <td>0.0</td>\n",
       "      <td>0.0</td>\n",
       "      <td>0.0</td>\n",
       "      <td>0.0</td>\n",
       "      <td>...</td>\n",
       "      <td>0.0</td>\n",
       "      <td>0.0</td>\n",
       "      <td>0.0</td>\n",
       "      <td>0.0</td>\n",
       "      <td>0.0</td>\n",
       "      <td>0.0</td>\n",
       "      <td>0.0</td>\n",
       "      <td>0.0</td>\n",
       "      <td>0.0</td>\n",
       "      <td>0.0</td>\n",
       "    </tr>\n",
       "    <tr>\n",
       "      <th>4</th>\n",
       "      <td>0.0</td>\n",
       "      <td>4.0</td>\n",
       "      <td>0.0</td>\n",
       "      <td>0.0</td>\n",
       "      <td>0.0</td>\n",
       "      <td>0.0</td>\n",
       "      <td>0.0</td>\n",
       "      <td>0.0</td>\n",
       "      <td>0.0</td>\n",
       "      <td>0.0</td>\n",
       "      <td>...</td>\n",
       "      <td>0.0</td>\n",
       "      <td>0.0</td>\n",
       "      <td>0.0</td>\n",
       "      <td>0.0</td>\n",
       "      <td>0.0</td>\n",
       "      <td>0.0</td>\n",
       "      <td>0.0</td>\n",
       "      <td>1.0</td>\n",
       "      <td>0.0</td>\n",
       "      <td>0.0</td>\n",
       "    </tr>\n",
       "  </tbody>\n",
       "</table>\n",
       "<p>5 rows × 42226 columns</p>\n",
       "</div>"
      ],
      "text/plain": [
       "     @   aa  aaa  aaai  aac  aacc  aade  aadhamiya  aaf  aafes  ...  zrebiec  \\\n",
       "0  0.0  0.0  0.0   0.0  0.0   0.0   0.0        0.0  0.0    0.0  ...      0.0   \n",
       "1  0.0  0.0  0.0   0.0  0.0   0.0   0.0        0.0  0.0    0.0  ...      0.0   \n",
       "2  1.0  0.0  0.0   0.0  0.0   0.0   0.0        0.0  0.0    0.0  ...      0.0   \n",
       "3  1.0  0.0  0.0   0.0  0.0   0.0   0.0        0.0  0.0    0.0  ...      0.0   \n",
       "4  0.0  4.0  0.0   0.0  0.0   0.0   0.0        0.0  0.0    0.0  ...      0.0   \n",
       "\n",
       "   zucarelli  zuccarelli  zuckerman  zuni  zurek  zurich  zuru  zylko  \\\n",
       "0        0.0         0.0        0.0   0.0    0.0     0.0   0.0    0.0   \n",
       "1        0.0         0.0        0.0   0.0    0.0     0.0   0.0    0.0   \n",
       "2        0.0         0.0        0.0   0.0    0.0     0.0   0.0    0.0   \n",
       "3        0.0         0.0        0.0   0.0    0.0     0.0   0.0    0.0   \n",
       "4        0.0         0.0        0.0   0.0    0.0     0.0   1.0    0.0   \n",
       "\n",
       "   zyzanski  \n",
       "0       0.0  \n",
       "1       0.0  \n",
       "2       0.0  \n",
       "3       0.0  \n",
       "4       0.0  \n",
       "\n",
       "[5 rows x 42226 columns]"
      ]
     },
     "execution_count": 203,
     "metadata": {},
     "output_type": "execute_result"
    }
   ],
   "source": [
    "dftermfreq=pd.DataFrame()\n",
    "for i in range(0,250):\n",
    "    dftermfreq=dftermfreq.append(termfreqlist[i],ignore_index=True)\n",
    "dftermfreq.head()"
   ]
  },
  {
   "cell_type": "markdown",
   "metadata": {},
   "source": [
    "- Calculations for Raw Term Frequency Model "
   ]
  },
  {
   "cell_type": "code",
   "execution_count": 204,
   "metadata": {},
   "outputs": [],
   "source": [
    "results = []\n",
    "\n",
    "for j in topqueries:\n",
    "    results_rawFreq = []\n",
    "    results_doc_id = []\n",
    "    for i in range(250):\n",
    "        results_rawFreq.append(0)\n",
    "        results_doc_id.append(i)\n",
    "    query = j\n",
    "    query = tokenizer.tokenize(str(query))\n",
    "    for q in query:\n",
    "        for doc in range(0,250):\n",
    "            try:\n",
    "                results_rawFreq[doc]=results_rawFreq[doc]+dftermfreq.at[doc,q]\n",
    "            except KeyError:\n",
    "                pass\n",
    "            except ValueError:\n",
    "                pass\n",
    "        sorted_result = [x for _,x in sorted(zip(results_rawFreq,results_doc_id),reverse=True)]\n",
    "    results.append(sorted_result)"
   ]
  },
  {
   "cell_type": "markdown",
   "metadata": {},
   "source": [
    "- Modules for computing TF , IDF and TFIDF manually (as per the assignment question ) with dictionary , bag of words in place\n"
   ]
  },
  {
   "cell_type": "code",
   "execution_count": 205,
   "metadata": {},
   "outputs": [],
   "source": [
    "def computeTF(word_Dict, bow):\n",
    "    import math\n",
    "    tfDict = {}\n",
    "    #bowCount = len(bow) \n",
    "    for word, count in word_Dict.items(): \n",
    "        if count > 0 :\n",
    "            tfDict[word] = math.log(count,10)\n",
    "        else :\n",
    "            tfDict[word] = 0\n",
    "    return tfDict"
   ]
  },
  {
   "cell_type": "code",
   "execution_count": 206,
   "metadata": {},
   "outputs": [],
   "source": [
    "def computeIDF(docList):\n",
    "    import math\n",
    "    idfDict = {}\n",
    "    N = len(docList)\n",
    "    #Counts the number of documents that contain a word w\n",
    "    idfDict = dict.fromkeys(docList[0].keys(),0)\n",
    "    for doc in docList:\n",
    "        for word, val in doc.items():\n",
    "            if val > 0:\n",
    "                idfDict[word] +=1\n",
    "            #Divide N by denominator above, take the log of that\n",
    "    for word, val in idfDict.items():\n",
    "        idfDict[word]= math.log(N / float(val),10)\n",
    "    return idfDict"
   ]
  },
  {
   "cell_type": "code",
   "execution_count": 207,
   "metadata": {},
   "outputs": [],
   "source": [
    "def computeTFIDF(tfBow, idfs):\n",
    "    tfidf = {}\n",
    "    for word, val in tfBow.items():\n",
    "        tfidf[word] = val * idfs[word]\n",
    "    return tfidf"
   ]
  },
  {
   "cell_type": "markdown",
   "metadata": {},
   "source": [
    "- Function call for above TF module"
   ]
  },
  {
   "cell_type": "code",
   "execution_count": 208,
   "metadata": {},
   "outputs": [],
   "source": [
    "tfbow=[]\n",
    "for i in range(0,250) :\n",
    "    tfTemp=computeTF(termfreqlist[i], new_corpus[i])\n",
    "    tfbow.append(tfTemp)"
   ]
  },
  {
   "cell_type": "markdown",
   "metadata": {},
   "source": [
    "-  Function call for above IDF module"
   ]
  },
  {
   "cell_type": "code",
   "execution_count": 209,
   "metadata": {},
   "outputs": [],
   "source": [
    "\n",
    "# for i in range(0,250) :\n",
    "idfbow=computeIDF(termfreqlist)\n"
   ]
  },
  {
   "cell_type": "code",
   "execution_count": 210,
   "metadata": {},
   "outputs": [
    {
     "data": {
      "text/plain": [
       "dict"
      ]
     },
     "execution_count": 210,
     "metadata": {},
     "output_type": "execute_result"
    }
   ],
   "source": [
    "type(tfbow[i])\n",
    "type(idfbow)"
   ]
  },
  {
   "cell_type": "markdown",
   "metadata": {},
   "source": [
    "- Function call for above TFIDF module\n",
    "- Storing the final results in a dataframe"
   ]
  },
  {
   "cell_type": "code",
   "execution_count": 211,
   "metadata": {},
   "outputs": [],
   "source": [
    "\n",
    "dffinal=pd.DataFrame()\n",
    "tfidflist=[]\n",
    "for i in range(0,250) :\n",
    "    temptfidf=computeTFIDF(tfbow[i], idfbow)\n",
    "    tfidflist.append(temptfidf)\n",
    "    dffinal=dffinal.append(temptfidf,ignore_index=True)\n",
    "    "
   ]
  },
  {
   "cell_type": "code",
   "execution_count": 212,
   "metadata": {},
   "outputs": [],
   "source": [
    "\n",
    "#print(dffinal.head())\n",
    "\n"
   ]
  },
  {
   "cell_type": "code",
   "execution_count": 213,
   "metadata": {},
   "outputs": [
    {
     "data": {
      "text/html": [
       "<div>\n",
       "<style scoped>\n",
       "    .dataframe tbody tr th:only-of-type {\n",
       "        vertical-align: middle;\n",
       "    }\n",
       "\n",
       "    .dataframe tbody tr th {\n",
       "        vertical-align: top;\n",
       "    }\n",
       "\n",
       "    .dataframe thead th {\n",
       "        text-align: right;\n",
       "    }\n",
       "</style>\n",
       "<table border=\"1\" class=\"dataframe\">\n",
       "  <thead>\n",
       "    <tr style=\"text-align: right;\">\n",
       "      <th></th>\n",
       "      <th>@</th>\n",
       "      <th>aa</th>\n",
       "      <th>aaa</th>\n",
       "      <th>aaai</th>\n",
       "      <th>aac</th>\n",
       "      <th>aacc</th>\n",
       "      <th>aade</th>\n",
       "      <th>aadhamiya</th>\n",
       "      <th>aaf</th>\n",
       "      <th>aafes</th>\n",
       "      <th>...</th>\n",
       "      <th>zrebiec</th>\n",
       "      <th>zucarelli</th>\n",
       "      <th>zuccarelli</th>\n",
       "      <th>zuckerman</th>\n",
       "      <th>zuni</th>\n",
       "      <th>zurek</th>\n",
       "      <th>zurich</th>\n",
       "      <th>zuru</th>\n",
       "      <th>zylko</th>\n",
       "      <th>zyzanski</th>\n",
       "    </tr>\n",
       "  </thead>\n",
       "  <tbody>\n",
       "    <tr>\n",
       "      <th>0</th>\n",
       "      <td>0.0</td>\n",
       "      <td>0.000000</td>\n",
       "      <td>0.0</td>\n",
       "      <td>0.0</td>\n",
       "      <td>0.0</td>\n",
       "      <td>0.0</td>\n",
       "      <td>0.0</td>\n",
       "      <td>0.0</td>\n",
       "      <td>0.0</td>\n",
       "      <td>0.0</td>\n",
       "      <td>...</td>\n",
       "      <td>0.0</td>\n",
       "      <td>0.0</td>\n",
       "      <td>0.0</td>\n",
       "      <td>0.0</td>\n",
       "      <td>0.0</td>\n",
       "      <td>0.0</td>\n",
       "      <td>0.0</td>\n",
       "      <td>0.0</td>\n",
       "      <td>0.0</td>\n",
       "      <td>0.0</td>\n",
       "    </tr>\n",
       "    <tr>\n",
       "      <th>1</th>\n",
       "      <td>0.0</td>\n",
       "      <td>0.000000</td>\n",
       "      <td>0.0</td>\n",
       "      <td>0.0</td>\n",
       "      <td>0.0</td>\n",
       "      <td>0.0</td>\n",
       "      <td>0.0</td>\n",
       "      <td>0.0</td>\n",
       "      <td>0.0</td>\n",
       "      <td>0.0</td>\n",
       "      <td>...</td>\n",
       "      <td>0.0</td>\n",
       "      <td>0.0</td>\n",
       "      <td>0.0</td>\n",
       "      <td>0.0</td>\n",
       "      <td>0.0</td>\n",
       "      <td>0.0</td>\n",
       "      <td>0.0</td>\n",
       "      <td>0.0</td>\n",
       "      <td>0.0</td>\n",
       "      <td>0.0</td>\n",
       "    </tr>\n",
       "    <tr>\n",
       "      <th>2</th>\n",
       "      <td>0.0</td>\n",
       "      <td>0.000000</td>\n",
       "      <td>0.0</td>\n",
       "      <td>0.0</td>\n",
       "      <td>0.0</td>\n",
       "      <td>0.0</td>\n",
       "      <td>0.0</td>\n",
       "      <td>0.0</td>\n",
       "      <td>0.0</td>\n",
       "      <td>0.0</td>\n",
       "      <td>...</td>\n",
       "      <td>0.0</td>\n",
       "      <td>0.0</td>\n",
       "      <td>0.0</td>\n",
       "      <td>0.0</td>\n",
       "      <td>0.0</td>\n",
       "      <td>0.0</td>\n",
       "      <td>0.0</td>\n",
       "      <td>0.0</td>\n",
       "      <td>0.0</td>\n",
       "      <td>0.0</td>\n",
       "    </tr>\n",
       "    <tr>\n",
       "      <th>3</th>\n",
       "      <td>0.0</td>\n",
       "      <td>0.000000</td>\n",
       "      <td>0.0</td>\n",
       "      <td>0.0</td>\n",
       "      <td>0.0</td>\n",
       "      <td>0.0</td>\n",
       "      <td>0.0</td>\n",
       "      <td>0.0</td>\n",
       "      <td>0.0</td>\n",
       "      <td>0.0</td>\n",
       "      <td>...</td>\n",
       "      <td>0.0</td>\n",
       "      <td>0.0</td>\n",
       "      <td>0.0</td>\n",
       "      <td>0.0</td>\n",
       "      <td>0.0</td>\n",
       "      <td>0.0</td>\n",
       "      <td>0.0</td>\n",
       "      <td>0.0</td>\n",
       "      <td>0.0</td>\n",
       "      <td>0.0</td>\n",
       "    </tr>\n",
       "    <tr>\n",
       "      <th>4</th>\n",
       "      <td>0.0</td>\n",
       "      <td>1.081228</td>\n",
       "      <td>0.0</td>\n",
       "      <td>0.0</td>\n",
       "      <td>0.0</td>\n",
       "      <td>0.0</td>\n",
       "      <td>0.0</td>\n",
       "      <td>0.0</td>\n",
       "      <td>0.0</td>\n",
       "      <td>0.0</td>\n",
       "      <td>...</td>\n",
       "      <td>0.0</td>\n",
       "      <td>0.0</td>\n",
       "      <td>0.0</td>\n",
       "      <td>0.0</td>\n",
       "      <td>0.0</td>\n",
       "      <td>0.0</td>\n",
       "      <td>0.0</td>\n",
       "      <td>0.0</td>\n",
       "      <td>0.0</td>\n",
       "      <td>0.0</td>\n",
       "    </tr>\n",
       "  </tbody>\n",
       "</table>\n",
       "<p>5 rows × 42226 columns</p>\n",
       "</div>"
      ],
      "text/plain": [
       "     @        aa  aaa  aaai  aac  aacc  aade  aadhamiya  aaf  aafes  ...  \\\n",
       "0  0.0  0.000000  0.0   0.0  0.0   0.0   0.0        0.0  0.0    0.0  ...   \n",
       "1  0.0  0.000000  0.0   0.0  0.0   0.0   0.0        0.0  0.0    0.0  ...   \n",
       "2  0.0  0.000000  0.0   0.0  0.0   0.0   0.0        0.0  0.0    0.0  ...   \n",
       "3  0.0  0.000000  0.0   0.0  0.0   0.0   0.0        0.0  0.0    0.0  ...   \n",
       "4  0.0  1.081228  0.0   0.0  0.0   0.0   0.0        0.0  0.0    0.0  ...   \n",
       "\n",
       "   zrebiec  zucarelli  zuccarelli  zuckerman  zuni  zurek  zurich  zuru  \\\n",
       "0      0.0        0.0         0.0        0.0   0.0    0.0     0.0   0.0   \n",
       "1      0.0        0.0         0.0        0.0   0.0    0.0     0.0   0.0   \n",
       "2      0.0        0.0         0.0        0.0   0.0    0.0     0.0   0.0   \n",
       "3      0.0        0.0         0.0        0.0   0.0    0.0     0.0   0.0   \n",
       "4      0.0        0.0         0.0        0.0   0.0    0.0     0.0   0.0   \n",
       "\n",
       "   zylko  zyzanski  \n",
       "0    0.0       0.0  \n",
       "1    0.0       0.0  \n",
       "2    0.0       0.0  \n",
       "3    0.0       0.0  \n",
       "4    0.0       0.0  \n",
       "\n",
       "[5 rows x 42226 columns]"
      ]
     },
     "execution_count": 213,
     "metadata": {},
     "output_type": "execute_result"
    }
   ],
   "source": [
    "dffinal.head()"
   ]
  },
  {
   "cell_type": "markdown",
   "metadata": {},
   "source": [
    "- Compute top document ids based on TFIDF per query"
   ]
  },
  {
   "cell_type": "code",
   "execution_count": 214,
   "metadata": {},
   "outputs": [],
   "source": [
    "resultsTFIDF = []\n",
    "\n",
    "for j in topqueries:\n",
    "    results_tfidf = []\n",
    "    results_doc_id1 = []\n",
    "    for i in range(250):\n",
    "        results_tfidf.append(0)\n",
    "        results_doc_id1.append(i)\n",
    "    query = j\n",
    "    query = tokenizer.tokenize(str(query))\n",
    "    for q in query:\n",
    "        for doc in range(0,250):\n",
    "            try :\n",
    "                results_tfidf[doc]=results_tfidf[doc]+dffinal.at[doc,q]\n",
    "            except KeyError:\n",
    "                pass\n",
    "            except ValueError:\n",
    "                pass\n",
    "        sorted_result = [x for _,x in sorted(zip(results_tfidf,results_doc_id1),reverse=True)]\n",
    "    resultsTFIDF.append(sorted_result)"
   ]
  },
  {
   "cell_type": "markdown",
   "metadata": {},
   "source": [
    "- Question 1: Computing Precision and Recall for Raw Term Frequency Model"
   ]
  },
  {
   "cell_type": "code",
   "execution_count": 215,
   "metadata": {},
   "outputs": [],
   "source": [
    "class relevancecheckRawFreq(object):\n",
    "    def checkRelevant(queryid):\n",
    "        templist=outputdict.get(queryid[0])\n",
    "        intersectans=set(templist).intersection(hundredtop)\n",
    "        return intersectans\n",
    "    \n",
    "    def getRelevantRetrieved(rel,k,queryno):\n",
    "        temp1=[]\n",
    "        for i in range(0,k):\n",
    "            temp1.append(hundredtop[results[queryno][i]])\n",
    "            \n",
    "        intersectans2=set(temp1).intersection(rel)\n",
    "            \n",
    "      \n",
    "        return len(intersectans2)\n",
    "\n",
    "    def calculateMetrics(a,b):\n",
    "        return a/float(b)"
   ]
  },
  {
   "cell_type": "code",
   "execution_count": 216,
   "metadata": {},
   "outputs": [],
   "source": [
    "class relevancecheck(object):\n",
    "    def checkRelevant(queryid):\n",
    "        templist=outputdict.get(queryid[0])\n",
    "        intersectans=set(templist).intersection(hundredtop)\n",
    "        return intersectans\n",
    "    \n",
    "    def getRelevantRetrieved(rel,k,queryno):\n",
    "        temp1=[]\n",
    "        for i in range(0,k):\n",
    "            temp1.append(hundredtop[resultsTFIDF[queryno][i]])\n",
    "            \n",
    "        intersectans2=set(temp1).intersection(rel)\n",
    "            \n",
    "      \n",
    "        return len(intersectans2)\n",
    "\n",
    "    def calculateMetrics(a,b):\n",
    "        return a/float(b)"
   ]
  },
  {
   "cell_type": "code",
   "execution_count": 217,
   "metadata": {},
   "outputs": [
    {
     "name": "stdout",
     "output_type": "stream",
     "text": [
      "Precision Recall : Raw Frequency\n"
     ]
    }
   ],
   "source": [
    "print(\"Precision Recall : Raw Frequency\")"
   ]
  },
  {
   "cell_type": "code",
   "execution_count": 218,
   "metadata": {},
   "outputs": [
    {
     "name": "stdout",
     "output_type": "stream",
     "text": [
      "k: 5\n",
      "0.0\n",
      "0.0\n",
      "k: 10\n",
      "0.5\n",
      "0.1\n",
      "k: 15\n",
      "1.0\n",
      "0.13333333333333333\n",
      "\n",
      "\n",
      "k: 5\n",
      "0.0\n",
      "0.0\n",
      "k: 10\n",
      "0.0\n",
      "0.0\n",
      "k: 15\n",
      "0.0\n",
      "0.0\n",
      "\n",
      "\n",
      "k: 5\n",
      "0\n",
      "0.0\n",
      "k: 10\n",
      "0\n",
      "0.0\n",
      "k: 15\n",
      "0\n",
      "0.0\n",
      "\n",
      "\n",
      "k: 5\n",
      "0.0\n",
      "0.0\n",
      "k: 10\n",
      "0.0\n",
      "0.0\n",
      "k: 15\n",
      "0.0\n",
      "0.0\n",
      "\n",
      "\n",
      "k: 5\n",
      "0.0\n",
      "0.0\n",
      "k: 10\n",
      "0.0\n",
      "0.0\n",
      "k: 15\n",
      "0.0\n",
      "0.0\n",
      "\n",
      "\n",
      "k: 5\n",
      "0.25\n",
      "0.2\n",
      "k: 10\n",
      "0.25\n",
      "0.1\n",
      "k: 15\n",
      "0.25\n",
      "0.06666666666666667\n",
      "\n",
      "\n",
      "k: 5\n",
      "0.0\n",
      "0.0\n",
      "k: 10\n",
      "0.0\n",
      "0.0\n",
      "k: 15\n",
      "1.0\n",
      "0.06666666666666667\n",
      "\n",
      "\n",
      "k: 5\n",
      "0.0\n",
      "0.0\n",
      "k: 10\n",
      "0.0\n",
      "0.0\n",
      "k: 15\n",
      "0.0\n",
      "0.0\n",
      "\n",
      "\n",
      "k: 5\n",
      "0.0\n",
      "0.0\n",
      "k: 10\n",
      "0.5\n",
      "0.1\n",
      "k: 15\n",
      "1.0\n",
      "0.13333333333333333\n",
      "\n",
      "\n",
      "k: 5\n",
      "0.0\n",
      "0.0\n",
      "k: 10\n",
      "0.0\n",
      "0.0\n",
      "k: 15\n",
      "0.0\n",
      "0.0\n",
      "\n",
      "\n"
     ]
    }
   ],
   "source": [
    "p=0\n",
    "for i in topqueries :\n",
    "    queryIDlist.clear()\n",
    "    queriesList.clear()\n",
    "    putIntoDict(i)\n",
    "    relevantList=[]\n",
    "    relevantList=relevancecheckRawFreq.checkRelevant(queryIDlist)\n",
    "    relevant=len(relevantList)\n",
    "    for sq in range(5,16,5) :\n",
    "        print(\"k:\",sq)\n",
    "        relevantretrieved=relevancecheckRawFreq.getRelevantRetrieved(relevantList,sq,p)\n",
    "\n",
    "        precision=relevancecheckRawFreq.calculateMetrics(relevantretrieved,sq)\n",
    "        if relevant != 0:\n",
    "            recall=relevancecheckRawFreq.calculateMetrics(relevantretrieved,relevant)\n",
    "            print(recall)\n",
    "        else:    \n",
    "            print(0)\n",
    "        \n",
    "        print(precision)\n",
    "\n",
    "        #relevantqlist.clear()\n",
    "    print(\"\\n\")"
   ]
  },
  {
   "cell_type": "markdown",
   "metadata": {},
   "source": [
    "- Comparison of Precision Recall (Assignment 1 - without lingusitic model) v/s Precision Recall in Question 1 (Raw Term Frequency Model) : \n",
    "\n",
    "\n",
    "- In case of Assignment 1 - most relevant doc ids were calculated based on how many terms in the query are present in the document (without considering their frequencies). As a result a spam page with 1 term repeated had same weightage as that of a page consisting of the same term once. \n",
    "\n",
    "\n",
    "- In case of Raw Term Frequency model, term - frequency mapping is used to find the most relevant doc ids. As a result, the output is governed by high or low frequencies of term instead of actual relevance. For instance, a doc with a particular term appearing once will have less weightage than a spam page with the same term repeated several times. Thus, even if a doc has more number of matching terms to the query ,  another document with a single term repeated is ranked higher.\n",
    "\n",
    "\n",
    "- The above is proven with the results of Precision and Recall in Assignment 1 , Assignment 2 (Task 1) where Raw Term Frequency Model performed significantly poor.\n"
   ]
  },
  {
   "cell_type": "markdown",
   "metadata": {},
   "source": [
    "- Question 2 : Computing Precision Recall based on TFIDF "
   ]
  },
  {
   "cell_type": "code",
   "execution_count": 219,
   "metadata": {},
   "outputs": [
    {
     "name": "stdout",
     "output_type": "stream",
     "text": [
      "Precision Recall : TFIDF\n"
     ]
    }
   ],
   "source": [
    "print(\"Precision Recall : TFIDF\")"
   ]
  },
  {
   "cell_type": "code",
   "execution_count": 220,
   "metadata": {},
   "outputs": [
    {
     "name": "stdout",
     "output_type": "stream",
     "text": [
      "k: 5\n",
      "1.0\n",
      "0.4\n",
      "k: 10\n",
      "1.0\n",
      "0.2\n",
      "k: 15\n",
      "1.0\n",
      "0.13333333333333333\n",
      "\n",
      "\n",
      "k: 5\n",
      "0.0\n",
      "0.0\n",
      "k: 10\n",
      "0.0\n",
      "0.0\n",
      "k: 15\n",
      "0.0\n",
      "0.0\n",
      "\n",
      "\n",
      "k: 5\n",
      "0\n",
      "0.0\n",
      "k: 10\n",
      "0\n",
      "0.0\n",
      "k: 15\n",
      "0\n",
      "0.0\n",
      "\n",
      "\n",
      "k: 5\n",
      "0.0\n",
      "0.0\n",
      "k: 10\n",
      "0.0\n",
      "0.0\n",
      "k: 15\n",
      "0.0\n",
      "0.0\n",
      "\n",
      "\n",
      "k: 5\n",
      "0.0\n",
      "0.0\n",
      "k: 10\n",
      "0.0\n",
      "0.0\n",
      "k: 15\n",
      "0.0\n",
      "0.0\n",
      "\n",
      "\n",
      "k: 5\n",
      "0.0\n",
      "0.0\n",
      "k: 10\n",
      "0.0\n",
      "0.0\n",
      "k: 15\n",
      "0.0\n",
      "0.0\n",
      "\n",
      "\n",
      "k: 5\n",
      "1.0\n",
      "0.2\n",
      "k: 10\n",
      "1.0\n",
      "0.1\n",
      "k: 15\n",
      "1.0\n",
      "0.06666666666666667\n",
      "\n",
      "\n",
      "k: 5\n",
      "0.0\n",
      "0.0\n",
      "k: 10\n",
      "0.3333333333333333\n",
      "0.1\n",
      "k: 15\n",
      "0.3333333333333333\n",
      "0.06666666666666667\n",
      "\n",
      "\n",
      "k: 5\n",
      "1.0\n",
      "0.4\n",
      "k: 10\n",
      "1.0\n",
      "0.2\n",
      "k: 15\n",
      "1.0\n",
      "0.13333333333333333\n",
      "\n",
      "\n",
      "k: 5\n",
      "0.0\n",
      "0.0\n",
      "k: 10\n",
      "0.0\n",
      "0.0\n",
      "k: 15\n",
      "0.25\n",
      "0.06666666666666667\n",
      "\n",
      "\n"
     ]
    }
   ],
   "source": [
    "p=0\n",
    "for i in topqueries :\n",
    "    queryIDlist.clear()\n",
    "    queriesList.clear()\n",
    "    putIntoDict(i)\n",
    "    relevantList=[]\n",
    "    relevantList=relevancecheck.checkRelevant(queryIDlist)\n",
    "    relevant=len(relevantList)\n",
    "    for sq in range(5,16,5) :\n",
    "        print(\"k:\",sq)\n",
    "        relevantretrieved=relevancecheck.getRelevantRetrieved(relevantList,sq,p)\n",
    "\n",
    "        precision=relevancecheck.calculateMetrics(relevantretrieved,sq)\n",
    "        if relevant != 0:\n",
    "            recall=relevancecheck.calculateMetrics(relevantretrieved,relevant)\n",
    "            print(recall)\n",
    "        else:    \n",
    "            print(0)\n",
    "\n",
    "        print(precision)\n",
    "\n",
    "        \n",
    "    print(\"\\n\")"
   ]
  },
  {
   "cell_type": "markdown",
   "metadata": {},
   "source": [
    "- Comparison of Precision Recall (TFIDF) v/s Precision Recall in Question 1 (Raw Term Frequency Model)\n",
    "\n",
    "\n",
    "- In case of Task 2( TFIDF ), the documents with one term  repeated several times get lower scores as compared to the term present less number of times (log frequency weighting of TF per doc). It also takes into account the presence of rare terms ( documents with rare terms have a higher score ) - idf. These two terms' combined score ,that is, TFIDF gives the top relevant doc ids\n",
    "\n",
    "\n",
    "- As compared to the Raw Term Frequency Model , the TFIDF method performs better as it is not skewed by the raw frequencies alone and takes into account other factors mentioned above.\n",
    "\n",
    "\n",
    "- The above claim is proven by the trend seen in the precision and recall values for these two methods"
   ]
  },
  {
   "cell_type": "markdown",
   "metadata": {},
   "source": [
    "- KMeans with Euclidean distance ( k ranging from 2 to 40 )"
   ]
  },
  {
   "cell_type": "code",
   "execution_count": 221,
   "metadata": {},
   "outputs": [],
   "source": [
    "\n",
    "sse=[]\n",
    "silScores=[]\n",
    "list_k = list(range(2, 41,2))\n",
    "\n",
    "for n_clusters in range(2, 41,2) :\n",
    "    kmeans_model = KMeans(n_clusters, max_iter=200)\n",
    "    kmeans_model.fit(dffinal)\n",
    "    sse.append(kmeans_model.inertia_)\n",
    "    labels = kmeans_model.labels_\n",
    "    \n",
    "    silScores.append(metrics.silhouette_score(dffinal, labels, metric='euclidean'))"
   ]
  },
  {
   "cell_type": "code",
   "execution_count": 222,
   "metadata": {},
   "outputs": [
    {
     "name": "stdout",
     "output_type": "stream",
     "text": [
      "20\n",
      "20\n",
      "20\n"
     ]
    }
   ],
   "source": [
    "print(len(list_k))\n",
    "print(len(sse))\n",
    "print(len(silScores))"
   ]
  },
  {
   "cell_type": "markdown",
   "metadata": {},
   "source": [
    "- Visualizing number of clusters (k) and SSE ( measure of intra-cluster distance relative to inner-cluster distance) to compute best \"K\" (Elbow method)"
   ]
  },
  {
   "cell_type": "code",
   "execution_count": 223,
   "metadata": {
    "scrolled": true
   },
   "outputs": [
    {
     "data": {
      "text/plain": [
       "Text(0, 0.5, 'Sum of squared distance')"
      ]
     },
     "execution_count": 223,
     "metadata": {},
     "output_type": "execute_result"
    },
    {
     "data": {
      "image/png": "[encoded data removed]",
      "text/plain": [
       "<Figure size 720x720 with 1 Axes>"
      ]
     },
     "metadata": {
      "needs_background": "light"
     },
     "output_type": "display_data"
    }
   ],
   "source": [
    "plt.figure(figsize=(10, 10))\n",
    "plt.plot(list_k, sse, '-o')\n",
    "plt.xlabel(r'Number of clusters *k*')\n",
    "plt.ylabel('Sum of squared distance')"
   ]
  },
  {
   "cell_type": "code",
   "execution_count": 224,
   "metadata": {},
   "outputs": [],
   "source": [
    "# plt.figure(figsize=(10, 10))\n",
    "# plt.plot(list_k, silScores, '-o')\n",
    "# plt.xlabel(r'Number of clusters *k*')\n",
    "# plt.ylabel('silhouette_score ')"
   ]
  },
  {
   "cell_type": "markdown",
   "metadata": {},
   "source": [
    "- Selecting k based on above graph\n",
    "- Displaying the clusters of documents in form of list ( Task 3(a) and 4(a) )"
   ]
  },
  {
   "cell_type": "code",
   "execution_count": 225,
   "metadata": {},
   "outputs": [
    {
     "name": "stdout",
     "output_type": "stream",
     "text": [
      "Cluster labels\n",
      "[11, 11, 11, 11, 19, 11, 20, 11, 11, 18, 11, 11, 11, 11, 11, 8, 11, 11, 15, 11, 11, 11, 11, 11, 11, 11, 11, 11, 11, 11, 11, 11, 11, 11, 10, 24, 11, 11, 11, 11, 11, 11, 11, 11, 23, 11, 11, 11, 6, 11, 11, 11, 11, 11, 17, 11, 11, 11, 11, 11, 11, 11, 11, 11, 7, 11, 11, 11, 11, 11, 11, 11, 11, 11, 11, 11, 11, 11, 11, 11, 5, 11, 11, 11, 11, 11, 11, 11, 11, 11, 11, 11, 11, 11, 14, 11, 11, 11, 11, 11, 11, 11, 11, 11, 11, 11, 11, 11, 11, 11, 11, 11, 11, 11, 11, 11, 11, 11, 11, 9, 11, 11, 25, 11, 11, 11, 11, 11, 11, 11, 11, 22, 11, 11, 13, 11, 11, 11, 11, 11, 11, 2, 1, 11, 11, 11, 11, 11, 11, 11, 11, 11, 11, 3, 11, 11, 11, 11, 11, 11, 11, 11, 11, 11, 12, 11, 11, 11, 11, 11, 11, 11, 11, 16, 11, 11, 11, 0, 11, 11, 11, 11, 11, 11, 11, 11, 11, 11, 11, 11, 0, 11, 11, 11, 11, 11, 0, 11, 11, 11, 11, 11, 11, 11, 4, 11, 11, 11, 11, 11, 11, 11, 11, 11, 11, 11, 11, 11, 11, 21, 11, 11, 11, 11, 11, 11, 11, 11, 11, 11, 11, 11, 11, 11, 11, 11, 11, 11, 11, 11, 11, 11, 11, 11, 11, 11, 11, 11, 11, 11]\n",
      "\n",
      "\n",
      "Centroids\n",
      "[[ 0.00000000e+00 -8.67361738e-19  0.00000000e+00 ...  0.00000000e+00\n",
      "   0.00000000e+00  0.00000000e+00]\n",
      " [ 4.43504866e-01  0.00000000e+00  0.00000000e+00 ...  0.00000000e+00\n",
      "   0.00000000e+00  0.00000000e+00]\n",
      " [ 0.00000000e+00  0.00000000e+00  0.00000000e+00 ...  0.00000000e+00\n",
      "   0.00000000e+00  0.00000000e+00]\n",
      " ...\n",
      " [ 0.00000000e+00  0.00000000e+00  0.00000000e+00 ...  0.00000000e+00\n",
      "   0.00000000e+00  0.00000000e+00]\n",
      " [ 0.00000000e+00  0.00000000e+00  0.00000000e+00 ...  0.00000000e+00\n",
      "   0.00000000e+00  0.00000000e+00]\n",
      " [ 0.00000000e+00  0.00000000e+00  0.00000000e+00 ...  0.00000000e+00\n",
      "   0.00000000e+00  0.00000000e+00]]\n"
     ]
    }
   ],
   "source": [
    "kmeans_model_final = KMeans(26, max_iter=200)\n",
    "kmeans_model_final.fit(dffinal)\n",
    "clusters = kmeans_model_final.labels_.tolist()\n",
    "print(\"Cluster labels\")\n",
    "print(clusters)\n",
    "print(\"\\n\")\n",
    "centroids = kmeans_model_final.cluster_centers_\n",
    "print(\"Centroids\")\n",
    "print(centroids)"
   ]
  },
  {
   "cell_type": "markdown",
   "metadata": {},
   "source": [
    "- Computing Cosine Similarity"
   ]
  },
  {
   "cell_type": "code",
   "execution_count": 226,
   "metadata": {},
   "outputs": [
    {
     "name": "stdout",
     "output_type": "stream",
     "text": [
      "<class 'numpy.ndarray'>\n",
      "(250, 250)\n"
     ]
    }
   ],
   "source": [
    "from sklearn.metrics.pairwise import cosine_similarity\n",
    "cos = cosine_similarity(dffinal)\n",
    "print(type(cos))\n",
    "print(cos.shape)"
   ]
  },
  {
   "cell_type": "markdown",
   "metadata": {},
   "source": [
    "- KMeans based on Cosine Similarity"
   ]
  },
  {
   "cell_type": "code",
   "execution_count": 227,
   "metadata": {},
   "outputs": [],
   "source": [
    "\n",
    "sse2=[]\n",
    "list_k = list(range(2, 41,2))\n",
    "\n",
    "for n_clusters in range(2, 41,2) :\n",
    "    kmeans_model = KMeans(n_clusters, max_iter=200)\n",
    "    kmeans_model.fit(cos)\n",
    "    sse2.append(kmeans_model.inertia_)"
   ]
  },
  {
   "cell_type": "markdown",
   "metadata": {},
   "source": [
    "- Visualizing number of clusters (k) and SSE ( measure of intra-cluster distance relative to inner-cluster distance) to compute best \"K\" (Elbow method) "
   ]
  },
  {
   "cell_type": "code",
   "execution_count": 228,
   "metadata": {},
   "outputs": [
    {
     "data": {
      "image/png": "[encoded data removed]",
      "text/plain": [
       "<Figure size 720x720 with 1 Axes>"
      ]
     },
     "metadata": {
      "needs_background": "light"
     },
     "output_type": "display_data"
    }
   ],
   "source": [
    "plt.figure(figsize=(10, 10))\n",
    "plt.plot(list_k, sse2, '-o')\n",
    "\n",
    "plt.xlabel(r'Number of clusters *k*')\n",
    "plt.ylabel('Sum of squared distance');"
   ]
  },
  {
   "cell_type": "markdown",
   "metadata": {},
   "source": [
    "- Select best \"k\" \n",
    "- Displaying clusters in the form of list"
   ]
  },
  {
   "cell_type": "code",
   "execution_count": 229,
   "metadata": {},
   "outputs": [
    {
     "name": "stdout",
     "output_type": "stream",
     "text": [
      "Cluster Labels\n",
      "[5, 2, 2, 19, 3, 13, 17, 9, 6, 3, 0, 19, 10, 8, 8, 8, 20, 2, 23, 22, 9, 13, 5, 16, 16, 19, 15, 14, 4, 0, 6, 7, 15, 4, 16, 1, 9, 3, 1, 4, 8, 4, 1, 4, 0, 20, 23, 19, 8, 6, 3, 2, 13, 23, 6, 2, 12, 6, 13, 20, 8, 23, 12, 19, 6, 5, 4, 9, 14, 2, 14, 14, 6, 16, 9, 3, 3, 9, 10, 16, 1, 4, 9, 3, 22, 2, 10, 1, 4, 13, 5, 4, 11, 7, 18, 8, 9, 16, 13, 23, 13, 1, 22, 22, 4, 14, 13, 19, 11, 2, 23, 1, 4, 0, 9, 9, 3, 2, 4, 6, 9, 7, 6, 16, 2, 4, 16, 14, 19, 0, 10, 0, 18, 0, 1, 4, 4, 19, 15, 6, 13, 8, 3, 13, 22, 8, 2, 4, 4, 14, 7, 19, 7, 6, 13, 13, 3, 16, 4, 2, 16, 3, 15, 14, 3, 11, 4, 22, 20, 7, 13, 14, 7, 23, 14, 20, 16, 21, 3, 10, 19, 1, 8, 10, 17, 4, 5, 4, 10, 2, 9, 8, 4, 4, 20, 11, 21, 4, 13, 2, 2, 13, 0, 13, 6, 10, 4, 19, 4, 1, 14, 13, 15, 10, 5, 2, 13, 11, 4, 6, 3, 20, 2, 19, 18, 14, 2, 0, 0, 13, 0, 18, 19, 17, 13, 2, 1, 6, 4, 10, 22, 20, 10, 9, 11, 13, 2, 10, 4, 13]\n",
      "\n",
      "\n",
      "Centroids\n",
      "[[0.02508031 0.01303863 0.00370223 ... 0.03246875 0.01040496 0.0231339 ]\n",
      " [0.00400522 0.01766107 0.02296644 ... 0.02299362 0.02160736 0.02683315]\n",
      " [0.0041404  0.06349168 0.05815053 ... 0.00855895 0.00713687 0.01747163]\n",
      " ...\n",
      " [0.         0.00795205 0.00255829 ... 0.00982129 0.01730601 0.02940228]\n",
      " [0.00242763 0.01768859 0.02008434 ... 0.03932686 0.0135403  0.02176176]\n",
      " [0.00817542 0.05561181 0.01922569 ... 0.03206852 0.01876293 0.03565109]]\n"
     ]
    }
   ],
   "source": [
    "kmeans_model_final = KMeans(24, max_iter=200)\n",
    "kmeans_model_final.fit(cos)\n",
    "clusters = kmeans_model_final.labels_.tolist()\n",
    "print(\"Cluster Labels\")\n",
    "print(clusters)\n",
    "print(\"\\n\")\n",
    "centroids = kmeans_model_final.cluster_centers_\n",
    "print(\"Centroids\")\n",
    "print(centroids)"
   ]
  },
  {
   "cell_type": "markdown",
   "metadata": {},
   "source": [
    "- Agglomerative Clustering ( Single Linkage )\n",
    "- Visualizing Dendogram for the same"
   ]
  },
  {
   "cell_type": "code",
   "execution_count": 230,
   "metadata": {},
   "outputs": [
    {
     "data": {
      "image/png": "[encoded data removed]",
      "text/plain": [
       "<Figure size 720x504 with 1 Axes>"
      ]
     },
     "metadata": {
      "needs_background": "light"
     },
     "output_type": "display_data"
    }
   ],
   "source": [
    "import scipy.cluster.hierarchy as shc\n",
    "plt.figure(figsize=(10, 7))  \n",
    "plt.title(\"Dendrograms\")  \n",
    "dend = shc.dendrogram(shc.linkage(dffinal, method='single'),\n",
    "                      orientation='top',\n",
    "                      #labels=labelList,\n",
    "                      distance_sort='descending',\n",
    "                      show_leaf_counts=True)"
   ]
  },
  {
   "cell_type": "markdown",
   "metadata": {},
   "source": [
    "- Agglomerative Clustering ( Complete Linkage )\n",
    "- Visualizing Dendogram for the same"
   ]
  },
  {
   "cell_type": "code",
   "execution_count": 231,
   "metadata": {},
   "outputs": [
    {
     "data": {
      "image/png": "[encoded data removed]",
      "text/plain": [
       "<Figure size 720x504 with 1 Axes>"
      ]
     },
     "metadata": {
      "needs_background": "light"
     },
     "output_type": "display_data"
    }
   ],
   "source": [
    "plt.figure(figsize=(10, 7))  \n",
    "plt.title(\"Dendrograms\")  \n",
    "dend = shc.dendrogram(shc.linkage(dffinal, method='complete'),\n",
    "                     orientation='top',\n",
    "                     #labels=labelList,\n",
    "                     distance_sort='descending',\n",
    "                     show_leaf_counts=True)"
   ]
  },
  {
   "cell_type": "markdown",
   "metadata": {},
   "source": [
    "- Agglomerative Clustering ( Average Linkage )\n",
    "- Visualizing Dendogram for the same"
   ]
  },
  {
   "cell_type": "code",
   "execution_count": 232,
   "metadata": {},
   "outputs": [
    {
     "data": {
      "image/png": "[encoded data removed]",
      "text/plain": [
       "<Figure size 720x504 with 1 Axes>"
      ]
     },
     "metadata": {
      "needs_background": "light"
     },
     "output_type": "display_data"
    }
   ],
   "source": [
    "plt.figure(figsize=(10, 7))  \n",
    "plt.title(\"Dendrograms\")  \n",
    "dend = shc.dendrogram(shc.linkage(dffinal, method='average'),\n",
    "                     orientation='top',\n",
    "            #labels=labelList,\n",
    "                     distance_sort='descending',\n",
    "                     show_leaf_counts=True)"
   ]
  },
  {
   "cell_type": "markdown",
   "metadata": {},
   "source": [
    "- Agglomerative Clustering ( Ward's Method )\n",
    "- Visualizing Dendogram for the same"
   ]
  },
  {
   "cell_type": "code",
   "execution_count": 233,
   "metadata": {},
   "outputs": [
    {
     "data": {
      "image/png": "[encoded data removed]",
      "text/plain": [
       "<Figure size 720x504 with 1 Axes>"
      ]
     },
     "metadata": {
      "needs_background": "light"
     },
     "output_type": "display_data"
    }
   ],
   "source": [
    "plt.figure(figsize=(10, 7))  \n",
    "plt.title(\"Dendrograms\")  \n",
    "dend = shc.dendrogram(shc.linkage(dffinal, method='ward'),\n",
    "                     orientation='top',\n",
    "            #labels=labelList,\n",
    "                     distance_sort='descending',\n",
    "                     show_leaf_counts=True)"
   ]
  }
 ],
 "metadata": {
  "kernelspec": {
   "display_name": "Python 3",
   "language": "python",
   "name": "python3"
  },
  "language_info": {
   "codemirror_mode": {
    "name": "ipython",
    "version": 3
   },
   "file_extension": ".py",
   "mimetype": "text/x-python",
   "name": "python",
   "nbconvert_exporter": "python",
   "pygments_lexer": "ipython3",
   "version": "3.7.3"
  }
 },
 "nbformat": 4,
 "nbformat_minor": 2
}

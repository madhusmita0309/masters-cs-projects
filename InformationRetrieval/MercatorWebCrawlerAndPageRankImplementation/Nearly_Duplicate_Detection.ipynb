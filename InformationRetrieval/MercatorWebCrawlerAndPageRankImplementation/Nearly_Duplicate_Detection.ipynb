{
 "cells": [
  {
   "cell_type": "code",
   "execution_count": 0,
   "metadata": {
    "colab": {},
    "colab_type": "code",
    "id": "eAU_X6tooyMT"
   },
   "outputs": [],
   "source": [
    "import numpy as np\n",
    "import pandas as pd"
   ]
  },
  {
   "cell_type": "code",
   "execution_count": 0,
   "metadata": {
    "colab": {},
    "colab_type": "code",
    "id": "LP31upjD7Ogr"
   },
   "outputs": [],
   "source": [
    "matrix = [[1, 0, 1, 0, 1, 1, 1], [0, 1, 1, 0, 0, 1, 0], [1, 1, 0, 1, 0, 1, 1], [0, 0, 0, 1, 0, 1, 1], [1, 0, 1, 1, 0, 1, 0], [1, 1, 0, 0, 1, 0, 1], [1, 1, 0, 1, 0, 0, 0]]"
   ]
  },
  {
   "cell_type": "code",
   "execution_count": 3,
   "metadata": {
    "colab": {
     "base_uri": "https://localhost:8080/",
     "height": 55
    },
    "colab_type": "code",
    "id": "1K_0hoBn_qcR",
    "outputId": "4a2b2ed9-cd1b-4711-e00b-836a2aa90b37"
   },
   "outputs": [
    {
     "name": "stdout",
     "output_type": "stream",
     "text": [
      "[[2, 4, 3, 5, 6, 1, 0], [1, 6, 2, 5, 0, 4, 3], [4, 3, 6, 0, 5, 2, 1], [4, 6, 1, 0, 3, 2, 5], [5, 3, 1, 4, 6, 2, 0], [5, 6, 4, 2, 1, 0, 3], [6, 5, 4, 3, 0, 2, 1], [4, 1, 0, 6, 3, 5, 2], [5, 4, 6, 0, 3, 2, 1], [1, 3, 4, 5, 2, 6, 0], [6, 2, 4, 0, 3, 5, 1], [4, 2, 5, 6, 3, 1, 0], [5, 4, 0, 3, 1, 2, 6], [3, 2, 4, 1, 6, 0, 5], [5, 2, 6, 4, 3, 1, 0], [1, 5, 0, 4, 6, 2, 3], [1, 3, 2, 5, 0, 6, 4], [6, 1, 4, 5, 0, 3, 2], [6, 5, 1, 4, 0, 2, 3], [6, 2, 1, 4, 5, 3, 0]]\n"
     ]
    }
   ],
   "source": [
    "import random\n",
    "permutation = []\n",
    "i = 1\n",
    "while i <= 20:\n",
    "  permutation.append(random.sample(range(0, len(matrix)), len(matrix)))\n",
    "  i = i + 1\n",
    "\n",
    "print(permutation)"
   ]
  },
  {
   "cell_type": "code",
   "execution_count": 4,
   "metadata": {
    "colab": {
     "base_uri": "https://localhost:8080/",
     "height": 55
    },
    "colab_type": "code",
    "id": "5RvQZ2wYpllW",
    "outputId": "241945cf-53f6-42f3-ccd6-e23dc8a33df1"
   },
   "outputs": [
    {
     "name": "stdout",
     "output_type": "stream",
     "text": [
      "[[1, 1, 3, 1, 2, 3, 2], [1, 3, 1, 1, 2, 1, 2], [2, 2, 4, 1, 3, 1, 1], [2, 2, 4, 1, 3, 1, 1], [1, 1, 4, 1, 3, 2, 2], [1, 1, 2, 2, 1, 2, 1], [1, 2, 1, 1, 3, 1, 3], [1, 1, 2, 1, 5, 1, 1], [2, 2, 4, 1, 3, 1, 1], [1, 1, 2, 1, 2, 2, 2], [2, 2, 3, 1, 6, 1, 1], [1, 1, 3, 1, 2, 3, 2], [1, 1, 2, 1, 3, 1, 1], [1, 1, 3, 2, 1, 2, 1], [1, 1, 3, 1, 2, 3, 2], [1, 1, 2, 1, 2, 1, 1], [1, 3, 1, 1, 2, 1, 2], [1, 2, 1, 1, 4, 1, 4], [1, 2, 1, 1, 3, 1, 2], [1, 1, 3, 1, 4, 2, 2]]\n"
     ]
    }
   ],
   "source": [
    "signature = []\n",
    "no_permutation = 0\n",
    "s = len(matrix[0])\n",
    "rang_e = len(matrix) - 1\n",
    "while no_permutation < 20:\n",
    "  arr = np.zeros((s,), dtype = int)\n",
    "  arr = arr.tolist()\n",
    "  temp = permutation[no_permutation]\n",
    "  i = 0\n",
    "  while i <= rang_e:\n",
    "    index = 0\n",
    "    while temp[index] != i:\n",
    "      index = index + 1 \n",
    "    j = 0\n",
    "    while j < s:\n",
    "      if matrix[index][j] == 1 and arr[j] == 0:\n",
    "        arr[j] = i + 1\n",
    "      j = j + 1\n",
    "    i = i + 1\n",
    "  no_permutation = no_permutation + 1\n",
    "  signature.append(arr)\n",
    "print(signature)\n",
    "   "
   ]
  },
  {
   "cell_type": "code",
   "execution_count": 0,
   "metadata": {
    "colab": {},
    "colab_type": "code",
    "id": "tDPyEceHejfe"
   },
   "outputs": [],
   "source": [
    "df = pd.DataFrame(signature)"
   ]
  },
  {
   "cell_type": "code",
   "execution_count": 6,
   "metadata": {
    "colab": {
     "base_uri": "https://localhost:8080/",
     "height": 381
    },
    "colab_type": "code",
    "id": "C9e62Jfu5D8_",
    "outputId": "5cb7a891-fab8-4401-a135-db98735c58d7"
   },
   "outputs": [
    {
     "name": "stdout",
     "output_type": "stream",
     "text": [
      "    0  1  2  3  4  5  6\n",
      "0   1  1  3  1  2  3  2\n",
      "1   1  3  1  1  2  1  2\n",
      "2   2  2  4  1  3  1  1\n",
      "3   2  2  4  1  3  1  1\n",
      "4   1  1  4  1  3  2  2\n",
      "5   1  1  2  2  1  2  1\n",
      "6   1  2  1  1  3  1  3\n",
      "7   1  1  2  1  5  1  1\n",
      "8   2  2  4  1  3  1  1\n",
      "9   1  1  2  1  2  2  2\n",
      "10  2  2  3  1  6  1  1\n",
      "11  1  1  3  1  2  3  2\n",
      "12  1  1  2  1  3  1  1\n",
      "13  1  1  3  2  1  2  1\n",
      "14  1  1  3  1  2  3  2\n",
      "15  1  1  2  1  2  1  1\n",
      "16  1  3  1  1  2  1  2\n",
      "17  1  2  1  1  4  1  4\n",
      "18  1  2  1  1  3  1  2\n",
      "19  1  1  3  1  4  2  2\n"
     ]
    }
   ],
   "source": [
    "print(df)"
   ]
  },
  {
   "cell_type": "code",
   "execution_count": 7,
   "metadata": {
    "colab": {
     "base_uri": "https://localhost:8080/",
     "height": 577
    },
    "colab_type": "code",
    "id": "B4RQ15dr5Fy1",
    "outputId": "6532583d-6e8b-41bf-ac68-ec0c11185c3c"
   },
   "outputs": [
    {
     "data": {
      "image/png": "[encoded data removed]",
      "text/plain": [
       "<Figure size 720x720 with 2 Axes>"
      ]
     },
     "metadata": {
      "tags": []
     },
     "output_type": "display_data"
    }
   ],
   "source": [
    "import seaborn as sns\n",
    "import matplotlib.pyplot as plt\n",
    "\n",
    "f, ax = plt.subplots(figsize=(10, 10))\n",
    "corr = df.corr()\n",
    "mask = np.zeros_like(corr, dtype=np.bool)\n",
    "mask[np.triu_indices_from(mask)] = True\n",
    "sns.heatmap(corr, mask=mask, cmap=sns.diverging_palette(220, 10, as_cmap=True),\n",
    "            square=True, ax=ax, annot = True);"
   ]
  }
 ],
 "metadata": {
  "accelerator": "GPU",
  "colab": {
   "collapsed_sections": [],
   "name": "Nearly Duplicate Detection",
   "provenance": []
  },
  "kernelspec": {
   "display_name": "Python 3",
   "language": "python",
   "name": "python3"
  },
  "language_info": {
   "codemirror_mode": {
    "name": "ipython",
    "version": 3
   },
   "file_extension": ".py",
   "mimetype": "text/x-python",
   "name": "python",
   "nbconvert_exporter": "python",
   "pygments_lexer": "ipython3",
   "version": "3.7.3"
  }
 },
 "nbformat": 4,
 "nbformat_minor": 1
}

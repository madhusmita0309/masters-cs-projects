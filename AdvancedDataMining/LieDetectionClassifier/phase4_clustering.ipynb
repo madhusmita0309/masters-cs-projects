{
 "cells": [
  {
   "cell_type": "code",
   "execution_count": 228,
   "metadata": {},
   "outputs": [],
   "source": [
    "import pandas as pd\n",
    "import numpy as np\n",
    "from sklearn import metrics"
   ]
  },
  {
   "cell_type": "code",
   "execution_count": 229,
   "metadata": {},
   "outputs": [
    {
     "data": {
      "text/html": [
       "<div>\n",
       "<style scoped>\n",
       "    .dataframe tbody tr th:only-of-type {\n",
       "        vertical-align: middle;\n",
       "    }\n",
       "\n",
       "    .dataframe tbody tr th {\n",
       "        vertical-align: top;\n",
       "    }\n",
       "\n",
       "    .dataframe thead th {\n",
       "        text-align: right;\n",
       "    }\n",
       "</style>\n",
       "<table border=\"1\" class=\"dataframe\">\n",
       "  <thead>\n",
       "    <tr style=\"text-align: right;\">\n",
       "      <th></th>\n",
       "      <th>AlphaL</th>\n",
       "      <th>AlphaH</th>\n",
       "      <th>AlphaAvg</th>\n",
       "      <th>AlphaN</th>\n",
       "      <th>BetaL</th>\n",
       "      <th>BetaH</th>\n",
       "      <th>BetaAvg</th>\n",
       "      <th>BetaN</th>\n",
       "    </tr>\n",
       "  </thead>\n",
       "  <tbody>\n",
       "    <tr>\n",
       "      <th>0</th>\n",
       "      <td>2.638849</td>\n",
       "      <td>4.743201</td>\n",
       "      <td>3.691025</td>\n",
       "      <td>0.448504</td>\n",
       "      <td>2.872663</td>\n",
       "      <td>2.796035</td>\n",
       "      <td>2.834349</td>\n",
       "      <td>0.458587</td>\n",
       "    </tr>\n",
       "    <tr>\n",
       "      <th>1</th>\n",
       "      <td>3.632192</td>\n",
       "      <td>2.507456</td>\n",
       "      <td>3.069824</td>\n",
       "      <td>0.344971</td>\n",
       "      <td>1.829277</td>\n",
       "      <td>2.868818</td>\n",
       "      <td>2.349047</td>\n",
       "      <td>0.337262</td>\n",
       "    </tr>\n",
       "    <tr>\n",
       "      <th>2</th>\n",
       "      <td>1.096045</td>\n",
       "      <td>1.317057</td>\n",
       "      <td>1.206551</td>\n",
       "      <td>0.034425</td>\n",
       "      <td>1.550285</td>\n",
       "      <td>2.369430</td>\n",
       "      <td>1.959858</td>\n",
       "      <td>0.239964</td>\n",
       "    </tr>\n",
       "    <tr>\n",
       "      <th>3</th>\n",
       "      <td>1.569525</td>\n",
       "      <td>1.785765</td>\n",
       "      <td>1.677645</td>\n",
       "      <td>0.112941</td>\n",
       "      <td>1.042417</td>\n",
       "      <td>1.609709</td>\n",
       "      <td>1.326063</td>\n",
       "      <td>0.081516</td>\n",
       "    </tr>\n",
       "    <tr>\n",
       "      <th>4</th>\n",
       "      <td>2.430079</td>\n",
       "      <td>2.486414</td>\n",
       "      <td>2.458247</td>\n",
       "      <td>0.243041</td>\n",
       "      <td>5.649352</td>\n",
       "      <td>3.074447</td>\n",
       "      <td>4.361899</td>\n",
       "      <td>0.840475</td>\n",
       "    </tr>\n",
       "  </tbody>\n",
       "</table>\n",
       "</div>"
      ],
      "text/plain": [
       "     AlphaL    AlphaH  AlphaAvg    AlphaN     BetaL     BetaH   BetaAvg  \\\n",
       "0  2.638849  4.743201  3.691025  0.448504  2.872663  2.796035  2.834349   \n",
       "1  3.632192  2.507456  3.069824  0.344971  1.829277  2.868818  2.349047   \n",
       "2  1.096045  1.317057  1.206551  0.034425  1.550285  2.369430  1.959858   \n",
       "3  1.569525  1.785765  1.677645  0.112941  1.042417  1.609709  1.326063   \n",
       "4  2.430079  2.486414  2.458247  0.243041  5.649352  3.074447  4.361899   \n",
       "\n",
       "      BetaN  \n",
       "0  0.458587  \n",
       "1  0.337262  \n",
       "2  0.239964  \n",
       "3  0.081516  \n",
       "4  0.840475  "
      ]
     },
     "execution_count": 229,
     "metadata": {},
     "output_type": "execute_result"
    }
   ],
   "source": [
    "df=pd.read_csv(\"combinedbook.csv\")\n",
    "df.head()"
   ]
  },
  {
   "cell_type": "code",
   "execution_count": 230,
   "metadata": {},
   "outputs": [],
   "source": [
    "df.drop(['AlphaL', 'AlphaH','BetaL', 'BetaH','BetaN','AlphaN'], axis=1,inplace = True)\n",
    "#df.drop(['AlphaL', 'AlphaH','BetaL', 'BetaH','BetaAvg','AlphaAvg'], axis=1,inplace = True)"
   ]
  },
  {
   "cell_type": "code",
   "execution_count": 231,
   "metadata": {},
   "outputs": [
    {
     "name": "stdout",
     "output_type": "stream",
     "text": [
      "MinMaxScaler(copy=True, feature_range=(0, 1))\n"
     ]
    }
   ],
   "source": [
    "from sklearn.preprocessing import MinMaxScaler\n",
    "scaler = MinMaxScaler()\n",
    "print(scaler.fit(df))\n"
   ]
  },
  {
   "cell_type": "code",
   "execution_count": 232,
   "metadata": {},
   "outputs": [
    {
     "name": "stdout",
     "output_type": "stream",
     "text": [
      "[[0.5198555  0.56461834]\n",
      " [0.40886133 0.42629795]\n",
      " [0.07593779 0.31537122]\n",
      " [0.16011133 0.13472743]\n",
      " [0.29958666 1.        ]\n",
      " [0.21822379 0.35660812]\n",
      " [0.19712332 0.35820722]\n",
      " [0.16951419 0.30059067]\n",
      " [0.32753545 0.31624081]\n",
      " [0.10392983 0.35189988]\n",
      " [0.33966689 0.36226191]\n",
      " [0.28553293 0.59438891]\n",
      " [0.09748719 0.19120589]\n",
      " [0.41749964 0.17663313]\n",
      " [0.20538123 0.21388475]\n",
      " [0.19505666 0.25681909]\n",
      " [0.21590216 0.25613547]\n",
      " [0.10098228 0.35766925]\n",
      " [0.10101596 0.20860662]\n",
      " [0.11590876 0.25037309]\n",
      " [0.0872927  0.35033926]\n",
      " [0.1567053  0.1757738 ]\n",
      " [0.11454599 0.36231564]\n",
      " [0.09353611 0.168602  ]\n",
      " [0.07209597 0.18317333]\n",
      " [0.08601355 0.14338989]\n",
      " [1.         0.12556833]\n",
      " [0.21291593 0.21538567]\n",
      " [0.09214654 0.11314547]\n",
      " [0.11074313 0.19328141]\n",
      " [0.08881074 0.21684397]\n",
      " [0.21830339 0.20090012]\n",
      " [0.16775932 0.18674819]\n",
      " [0.11198011 0.21480166]\n",
      " [0.1145887  0.12991516]\n",
      " [0.05577001 0.23296068]\n",
      " [0.1602188  0.59170431]\n",
      " [0.1761758  0.2615078 ]\n",
      " [0.08516278 0.40830396]\n",
      " [0.09002726 0.27904904]\n",
      " [0.10228805 0.13253506]\n",
      " [0.13398209 0.13919753]\n",
      " [0.08681188 0.1205128 ]\n",
      " [0.04363491 0.00610626]\n",
      " [0.09630372 0.25690588]\n",
      " [0.15045805 0.34277085]\n",
      " [0.05425314 0.25858422]\n",
      " [0.17474263 0.1127587 ]\n",
      " [0.05456618 0.76562577]\n",
      " [0.04711634 0.100855  ]\n",
      " [0.02883423 0.05267274]\n",
      " [0.06098398 0.1192114 ]\n",
      " [0.02292494 0.07895952]\n",
      " [0.28835763 0.31461463]\n",
      " [0.04956984 0.11031494]\n",
      " [0.06611816 0.05073261]\n",
      " [0.14365538 0.06610543]\n",
      " [0.14365538 0.06610543]\n",
      " [0.04374516 0.04184143]\n",
      " [0.08670378 0.04238895]\n",
      " [0.10308611 0.12582499]\n",
      " [0.10476728 0.0488522 ]\n",
      " [0.04796363 0.11721255]\n",
      " [0.04984384 0.09018017]\n",
      " [0.07233808 0.29266614]\n",
      " [0.00243099 0.14127803]\n",
      " [0.08259118 0.17757541]\n",
      " [0.08988691 0.20646527]\n",
      " [0.02667653 0.        ]\n",
      " [0.         0.16715752]\n",
      " [0.03823084 0.04855022]\n",
      " [0.07017243 0.03223342]]\n"
     ]
    }
   ],
   "source": [
    "print(scaler.transform(df))"
   ]
  },
  {
   "cell_type": "code",
   "execution_count": 237,
   "metadata": {},
   "outputs": [
    {
     "data": {
      "text/plain": [
       "Index(['AlphaN', 'BetaN'], dtype='object')"
      ]
     },
     "execution_count": 237,
     "metadata": {},
     "output_type": "execute_result"
    }
   ],
   "source": [
    "df1=scaler.transform(df)\n",
    "type(df1)\n",
    "df2=pd.DataFrame(df1)\n",
    "type(df2)\n",
    "df2.head()\n",
    "# # df2.columns=['AlphaL', 'AlphaH', 'AlphaAvg', 'AlphaN', 'BetaL', 'BetaH', 'BetaAvg',\n",
    "# #        'BetaN']\n",
    "df2.columns=['AlphaN','BetaN']\n",
    "df2.columns\n",
    "# print(df1)"
   ]
  },
  {
   "cell_type": "code",
   "execution_count": 239,
   "metadata": {},
   "outputs": [
    {
     "data": {
      "text/html": [
       "<div>\n",
       "<style scoped>\n",
       "    .dataframe tbody tr th:only-of-type {\n",
       "        vertical-align: middle;\n",
       "    }\n",
       "\n",
       "    .dataframe tbody tr th {\n",
       "        vertical-align: top;\n",
       "    }\n",
       "\n",
       "    .dataframe thead th {\n",
       "        text-align: right;\n",
       "    }\n",
       "</style>\n",
       "<table border=\"1\" class=\"dataframe\">\n",
       "  <thead>\n",
       "    <tr style=\"text-align: right;\">\n",
       "      <th></th>\n",
       "      <th>AlphaN</th>\n",
       "      <th>BetaN</th>\n",
       "    </tr>\n",
       "  </thead>\n",
       "  <tbody>\n",
       "    <tr>\n",
       "      <th>0</th>\n",
       "      <td>0.519855</td>\n",
       "      <td>0.564618</td>\n",
       "    </tr>\n",
       "    <tr>\n",
       "      <th>1</th>\n",
       "      <td>0.408861</td>\n",
       "      <td>0.426298</td>\n",
       "    </tr>\n",
       "    <tr>\n",
       "      <th>2</th>\n",
       "      <td>0.075938</td>\n",
       "      <td>0.315371</td>\n",
       "    </tr>\n",
       "    <tr>\n",
       "      <th>3</th>\n",
       "      <td>0.160111</td>\n",
       "      <td>0.134727</td>\n",
       "    </tr>\n",
       "    <tr>\n",
       "      <th>4</th>\n",
       "      <td>0.299587</td>\n",
       "      <td>1.000000</td>\n",
       "    </tr>\n",
       "  </tbody>\n",
       "</table>\n",
       "</div>"
      ],
      "text/plain": [
       "     AlphaN     BetaN\n",
       "0  0.519855  0.564618\n",
       "1  0.408861  0.426298\n",
       "2  0.075938  0.315371\n",
       "3  0.160111  0.134727\n",
       "4  0.299587  1.000000"
      ]
     },
     "execution_count": 239,
     "metadata": {},
     "output_type": "execute_result"
    }
   ],
   "source": [
    "df2.head()"
   ]
  },
  {
   "cell_type": "code",
   "execution_count": 240,
   "metadata": {},
   "outputs": [
    {
     "name": "stdout",
     "output_type": "stream",
     "text": [
      "72\n",
      "[1 1 1 1 1 1 1 1 1 1 1 1 1 1 1 1 1 1 1 1 1 1 1 1 1 1 1 1 1 1 1 1 1 1 1 1 0\n",
      " 0 0 0 0 0 0 0 0 0 0 0 0 0 0 0 0 0 0 0 0 0 0 0 0 0 0 0 0 0 0 0 0 0 0 0]\n",
      "<class 'numpy.ndarray'>\n"
     ]
    }
   ],
   "source": [
    "label_class=np.arange((72))\n",
    "print(len(label_class))\n",
    "for i in range((36)) :\n",
    "    label_class[i]=1\n",
    "for i in range(36,72,1) :\n",
    "    label_class[i]=0\n",
    "\n",
    "\n",
    "print((label_class))\n",
    "print(type(label_class))"
   ]
  },
  {
   "cell_type": "code",
   "execution_count": 241,
   "metadata": {},
   "outputs": [
    {
     "data": {
      "image/png": "[encoded data removed]",
      "text/plain": [
       "<Figure size 432x288 with 1 Axes>"
      ]
     },
     "metadata": {
      "needs_background": "light"
     },
     "output_type": "display_data"
    }
   ],
   "source": [
    "import matplotlib.pyplot as plt\n",
    "from sklearn.cluster import KMeans\n",
    "kmeans = KMeans(n_clusters=2)\n",
    "\n",
    "kmeans.fit(df2)\n",
    "\n",
    "\n",
    "y_kmeans = kmeans.predict(df2)\n",
    "\n",
    "\n",
    "plt.scatter(df2.loc[0:71,'AlphaN'], df2.loc[0:71,'BetaN'], c=y_kmeans, s=50, cmap='viridis')\n",
    "centers = kmeans.cluster_centers_\n",
    "plt.scatter(centers[:, 0], centers[:, 1], c='black', s=200, alpha=0.5);"
   ]
  },
  {
   "cell_type": "code",
   "execution_count": 242,
   "metadata": {},
   "outputs": [
    {
     "name": "stdout",
     "output_type": "stream",
     "text": [
      "[1 1 0 0 1 1 1 0 1 0 1 1 0 1 0 0 0 0 0 0 0 0 0 0 0 0 1 0 0 0 0 0 0 0 0 0 1\n",
      " 0 0 0 0 0 0 0 0 0 0 0 1 0 0 0 0 1 0 0 0 0 0 0 0 0 0 0 0 0 0 0 0 0 0 0]\n",
      "<class 'numpy.ndarray'>\n"
     ]
    }
   ],
   "source": [
    "label_predicted=kmeans.labels_\n",
    "print(label_predicted)\n",
    "print(type(label_predicted))"
   ]
  },
  {
   "cell_type": "code",
   "execution_count": 243,
   "metadata": {},
   "outputs": [
    {
     "data": {
      "text/plain": [
       "0.5972222222222222"
      ]
     },
     "execution_count": 243,
     "metadata": {},
     "output_type": "execute_result"
    }
   ],
   "source": [
    "metrics.accuracy_score(label_class, label_predicted)"
   ]
  },
  {
   "cell_type": "code",
   "execution_count": 244,
   "metadata": {},
   "outputs": [
    {
     "name": "stdout",
     "output_type": "stream",
     "text": [
      "DBSCAN(algorithm='auto', eps=2, leaf_size=30, metric='euclidean',\n",
      "       metric_params=None, min_samples=7, n_jobs=None, p=None)\n"
     ]
    }
   ],
   "source": [
    "from sklearn.cluster import DBSCAN\n",
    "\n",
    "clustering = DBSCAN(eps=2, min_samples=7).fit(df2)\n",
    "\n",
    "\n",
    "print(clustering)"
   ]
  },
  {
   "cell_type": "code",
   "execution_count": 245,
   "metadata": {},
   "outputs": [
    {
     "data": {
      "text/plain": [
       "0.5"
      ]
     },
     "execution_count": 245,
     "metadata": {},
     "output_type": "execute_result"
    }
   ],
   "source": [
    "metrics.accuracy_score(label_class,clustering.labels_ )"
   ]
  },
  {
   "cell_type": "code",
   "execution_count": 274,
   "metadata": {},
   "outputs": [],
   "source": [
    "label_class2=np.arange((72))\n",
    "#print(len(label_class2))\n",
    "for i in range((36)) :\n",
    "    label_class2[i]=2\n",
    "for i in range(36,72,1) :\n",
    "    label_class2[i]=1\n",
    "\n",
    "\n",
    "#print((label_class2))\n",
    "#print(type(label_class2))"
   ]
  },
  {
   "cell_type": "code",
   "execution_count": 268,
   "metadata": {},
   "outputs": [
    {
     "name": "stdout",
     "output_type": "stream",
     "text": [
      "[2 2 1 1 2 1 1 1 2 1 2 2 1 2 1 1 1 1 1 1 1 1 1 1 1 1 2 1 1 1 1 1 1 1 1 1 2\n",
      " 1 1 1 1 1 1 1 1 1 1 1 2 1 1 1 1 2 1 1 1 1 1 1 1 1 1 1 1 1 1 1 1 1 1 1]\n"
     ]
    }
   ],
   "source": [
    "from scipy.cluster.hierarchy import fcluster,ward\n",
    "from scipy.spatial.distance import pdist\n",
    "\n",
    "Z=ward(pdist(df2))\n",
    "pred=fcluster(Z,t=1.5,criterion='distance')\n",
    "print((pred))"
   ]
  },
  {
   "cell_type": "code",
   "execution_count": 269,
   "metadata": {},
   "outputs": [
    {
     "data": {
      "text/plain": [
       "0.5694444444444444"
      ]
     },
     "execution_count": 269,
     "metadata": {},
     "output_type": "execute_result"
    }
   ],
   "source": [
    "metrics.accuracy_score(label_class2,pred)"
   ]
  },
  {
   "cell_type": "code",
   "execution_count": 270,
   "metadata": {},
   "outputs": [
    {
     "name": "stdout",
     "output_type": "stream",
     "text": [
      "MeanShift(bandwidth=3, bin_seeding=False, cluster_all=True, min_bin_freq=1,\n",
      "          n_jobs=None, seeds=None)\n"
     ]
    }
   ],
   "source": [
    "from sklearn.cluster import MeanShift\n",
    "\n",
    "\n",
    "clustering = MeanShift(bandwidth=3).fit(df2)\n",
    "\n",
    "print(clustering)\n"
   ]
  },
  {
   "cell_type": "code",
   "execution_count": 271,
   "metadata": {},
   "outputs": [
    {
     "data": {
      "text/plain": [
       "0.5"
      ]
     },
     "execution_count": 271,
     "metadata": {},
     "output_type": "execute_result"
    }
   ],
   "source": [
    "metrics.accuracy_score(label_class,clustering.labels_)"
   ]
  }
 ],
 "metadata": {
  "kernelspec": {
   "display_name": "Python 3",
   "language": "python",
   "name": "python3"
  },
  "language_info": {
   "codemirror_mode": {
    "name": "ipython",
    "version": 3
   },
   "file_extension": ".py",
   "mimetype": "text/x-python",
   "name": "python",
   "nbconvert_exporter": "python",
   "pygments_lexer": "ipython3",
   "version": "3.7.3"
  }
 },
 "nbformat": 4,
 "nbformat_minor": 2
}
